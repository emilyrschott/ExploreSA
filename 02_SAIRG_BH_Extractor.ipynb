{
 "cells": [
  {
   "cell_type": "markdown",
   "metadata": {},
   "source": [
    "## Drill Hole Index Finder\n",
    "\n",
    "Here we will find the index numbers(rows) of the Drill Holes (DH's) that we need to extract from the **sarig_rs_chem_exp.csv** dataset corresponding to the boreholes in the **sarig_dh_details_exp** dataset."
   ]
  },
  {
   "cell_type": "code",
   "execution_count": 1,
   "metadata": {},
   "outputs": [],
   "source": [
    "import pandas as pd\n",
    "import numpy as np\n",
    "import itertools\n",
    "import os\n",
    "import pickle\n",
    "\n",
    "pd.set_option('display.max_columns', None)"
   ]
  },
  {
   "cell_type": "code",
   "execution_count": 2,
   "metadata": {},
   "outputs": [
    {
     "data": {
      "text/plain": [
       "'H:\\\\ExploreSA'"
      ]
     },
     "execution_count": 2,
     "metadata": {},
     "output_type": "execute_result"
    }
   ],
   "source": [
    "os.chdir('..')\n",
    "os.getcwd()"
   ]
  },
  {
   "cell_type": "markdown",
   "metadata": {},
   "source": [
    "##### Loading the DF that we created from the previous notebook and extracting the unique Drill Hole numbers. We can then extract the Geochemical Assay results for these boreholes from the \"sarig_rs_chem_exp.csv\" dataset."
   ]
  },
  {
   "cell_type": "code",
   "execution_count": 3,
   "metadata": {},
   "outputs": [
    {
     "name": "stderr",
     "output_type": "stream",
     "text": [
      "C:\\Users\\Russell\\Anaconda3\\envs\\PythonGPU\\lib\\site-packages\\IPython\\core\\interactiveshell.py:3020: DtypeWarning: Columns (2) have mixed types.Specify dtype option on import or set low_memory=False.\n",
      "  interactivity=interactivity, compiler=compiler, result=result)\n"
     ]
    },
    {
     "data": {
      "text/html": [
       "<div>\n",
       "<style scoped>\n",
       "    .dataframe tbody tr th:only-of-type {\n",
       "        vertical-align: middle;\n",
       "    }\n",
       "\n",
       "    .dataframe tbody tr th {\n",
       "        vertical-align: top;\n",
       "    }\n",
       "\n",
       "    .dataframe thead th {\n",
       "        text-align: right;\n",
       "    }\n",
       "</style>\n",
       "<table border=\"1\" class=\"dataframe\">\n",
       "  <thead>\n",
       "    <tr style=\"text-align: right;\">\n",
       "      <th></th>\n",
       "      <th>DRILLHOLE_NO</th>\n",
       "      <th>DH_NAME</th>\n",
       "      <th>DH_OTHER_NAME</th>\n",
       "      <th>PACE_DH</th>\n",
       "      <th>PACE_ROUND_NO</th>\n",
       "      <th>REPRESENTATIVE_DH</th>\n",
       "      <th>REPRESENTATIVE_DH_COMMENTS</th>\n",
       "      <th>DH_UNIT_NO</th>\n",
       "      <th>MAX_DRILLED_DEPTH</th>\n",
       "      <th>MAX_DRILLED_DEPTH_DATE</th>\n",
       "      <th>CORED_LENGTH</th>\n",
       "      <th>TENEMENT</th>\n",
       "      <th>OPERATOR_CODE</th>\n",
       "      <th>OPERATOR_NAME</th>\n",
       "      <th>TARGET_COMMODITIES</th>\n",
       "      <th>MINERAL_CLASS</th>\n",
       "      <th>PETROLEUM_CLASS</th>\n",
       "      <th>STRATIGRAPHIC_CLASS</th>\n",
       "      <th>ENGINEERING_CLASS</th>\n",
       "      <th>SEISMIC_POINT_CLASS</th>\n",
       "      <th>WATER_WELL_CLASS</th>\n",
       "      <th>WATER_POINT_CLASS</th>\n",
       "      <th>DRILLING_METHODS</th>\n",
       "      <th>STRAT_LOG</th>\n",
       "      <th>LITHO_LOG</th>\n",
       "      <th>PETROPHYSICAL_LOG</th>\n",
       "      <th>GEOCHEMISTRY</th>\n",
       "      <th>PETROLOGY</th>\n",
       "      <th>BIOSTRATIGRAPHY</th>\n",
       "      <th>SPECTRAL_SCANNED</th>\n",
       "      <th>CORE_LIBRARY</th>\n",
       "      <th>REFERENCES</th>\n",
       "      <th>HISTORICAL_DOCUMENTS</th>\n",
       "      <th>COMMENTS</th>\n",
       "      <th>MAP_250000</th>\n",
       "      <th>MAP_100000</th>\n",
       "      <th>MAP_50K_NO</th>\n",
       "      <th>SITE_NO</th>\n",
       "      <th>EASTING_GDA2020</th>\n",
       "      <th>NORTHING_GDA2020</th>\n",
       "      <th>ZONE_GDA2020</th>\n",
       "      <th>LONGITUDE_GDA2020</th>\n",
       "      <th>LATITUDE_GDA2020</th>\n",
       "      <th>LONGITUDE_GDA94</th>\n",
       "      <th>LATITUDE_GDA94</th>\n",
       "      <th>HORIZ_ACCRCY_M</th>\n",
       "      <th>ELEVATION_M</th>\n",
       "      <th>INCLINATION</th>\n",
       "      <th>AZIMUTH</th>\n",
       "      <th>SURVEY_METHOD_CODE</th>\n",
       "      <th>SURVEY_METHOD</th>\n",
       "    </tr>\n",
       "  </thead>\n",
       "  <tbody>\n",
       "    <tr>\n",
       "      <th>0</th>\n",
       "      <td>61638</td>\n",
       "      <td>BH34 34</td>\n",
       "      <td>NaN</td>\n",
       "      <td>N</td>\n",
       "      <td>NaN</td>\n",
       "      <td>N</td>\n",
       "      <td>1 OF 35 AUGER HOLES IN TAILINGS.</td>\n",
       "      <td>6628 14669</td>\n",
       "      <td>144.2</td>\n",
       "      <td>2017-06-17</td>\n",
       "      <td>0.0</td>\n",
       "      <td></td>\n",
       "      <td>SDM</td>\n",
       "      <td>South Australia. Department of Mines and Energy.</td>\n",
       "      <td>Gold, Copper</td>\n",
       "      <td>Y</td>\n",
       "      <td>N</td>\n",
       "      <td>N</td>\n",
       "      <td>N</td>\n",
       "      <td>N</td>\n",
       "      <td>N</td>\n",
       "      <td>N</td>\n",
       "      <td>Auger (Hand)</td>\n",
       "      <td>N</td>\n",
       "      <td>N</td>\n",
       "      <td>N</td>\n",
       "      <td>N</td>\n",
       "      <td>N</td>\n",
       "      <td>N</td>\n",
       "      <td>N</td>\n",
       "      <td>Y</td>\n",
       "      <td>Y</td>\n",
       "      <td>Y</td>\n",
       "      <td>Tailings.</td>\n",
       "      <td>SI5409 ADELAIDE</td>\n",
       "      <td>6628 Adelaide</td>\n",
       "      <td>2</td>\n",
       "      <td>325873</td>\n",
       "      <td>308944.99</td>\n",
       "      <td>6129703.52</td>\n",
       "      <td>54</td>\n",
       "      <td>138.907534</td>\n",
       "      <td>-34.957203</td>\n",
       "      <td>138.907524</td>\n",
       "      <td>-34.957189</td>\n",
       "      <td>10.0</td>\n",
       "      <td>444.35</td>\n",
       "      <td>-90.0</td>\n",
       "      <td>NaN</td>\n",
       "      <td>GPSUN</td>\n",
       "      <td>GPS type unknown</td>\n",
       "    </tr>\n",
       "    <tr>\n",
       "      <th>1</th>\n",
       "      <td>147530</td>\n",
       "      <td>STO 1</td>\n",
       "      <td>NaN</td>\n",
       "      <td>N</td>\n",
       "      <td>NaN</td>\n",
       "      <td>N</td>\n",
       "      <td>NaN</td>\n",
       "      <td>6729 1506</td>\n",
       "      <td>155.5</td>\n",
       "      <td>1995-02-14</td>\n",
       "      <td>NaN</td>\n",
       "      <td></td>\n",
       "      <td>SDM</td>\n",
       "      <td>South Australia. Department of Mines and Energy.</td>\n",
       "      <td>Gold, Base Metals, Metalliferous Minerals</td>\n",
       "      <td>Y</td>\n",
       "      <td>N</td>\n",
       "      <td>N</td>\n",
       "      <td>N</td>\n",
       "      <td>N</td>\n",
       "      <td>N</td>\n",
       "      <td>N</td>\n",
       "      <td>Reverse Circulation</td>\n",
       "      <td>N</td>\n",
       "      <td>Y</td>\n",
       "      <td>Y</td>\n",
       "      <td>Y</td>\n",
       "      <td>Y</td>\n",
       "      <td>N</td>\n",
       "      <td>N</td>\n",
       "      <td>Y</td>\n",
       "      <td>Y</td>\n",
       "      <td>N</td>\n",
       "      <td>NaN</td>\n",
       "      <td>SI5409 ADELAIDE</td>\n",
       "      <td>6729 Eudunda</td>\n",
       "      <td>2</td>\n",
       "      <td>195110</td>\n",
       "      <td>344854.61</td>\n",
       "      <td>6204552.69</td>\n",
       "      <td>54</td>\n",
       "      <td>139.314355</td>\n",
       "      <td>-34.288648</td>\n",
       "      <td>139.314345</td>\n",
       "      <td>-34.288633</td>\n",
       "      <td>20.0</td>\n",
       "      <td>102.00</td>\n",
       "      <td>-90.0</td>\n",
       "      <td>NaN</td>\n",
       "      <td>GPS</td>\n",
       "      <td>Global Positioning System</td>\n",
       "    </tr>\n",
       "    <tr>\n",
       "      <th>2</th>\n",
       "      <td>147531</td>\n",
       "      <td>STO 2</td>\n",
       "      <td>NaN</td>\n",
       "      <td>N</td>\n",
       "      <td>NaN</td>\n",
       "      <td>N</td>\n",
       "      <td>NaN</td>\n",
       "      <td>6729 1507</td>\n",
       "      <td>94.0</td>\n",
       "      <td>1995-02-15</td>\n",
       "      <td>NaN</td>\n",
       "      <td></td>\n",
       "      <td>SDM</td>\n",
       "      <td>South Australia. Department of Mines and Energy.</td>\n",
       "      <td>Gold, Base Metals, Metalliferous Minerals</td>\n",
       "      <td>Y</td>\n",
       "      <td>N</td>\n",
       "      <td>N</td>\n",
       "      <td>N</td>\n",
       "      <td>N</td>\n",
       "      <td>N</td>\n",
       "      <td>N</td>\n",
       "      <td>Reverse Circulation</td>\n",
       "      <td>N</td>\n",
       "      <td>Y</td>\n",
       "      <td>Y</td>\n",
       "      <td>Y</td>\n",
       "      <td>N</td>\n",
       "      <td>N</td>\n",
       "      <td>N</td>\n",
       "      <td>Y</td>\n",
       "      <td>Y</td>\n",
       "      <td>Y</td>\n",
       "      <td>BLOCKED OFF IN SANDS TERMINATED HOLE, Traverse...</td>\n",
       "      <td>SI5409 ADELAIDE</td>\n",
       "      <td>6729 Eudunda</td>\n",
       "      <td>2</td>\n",
       "      <td>195111</td>\n",
       "      <td>346316.55</td>\n",
       "      <td>6204575.59</td>\n",
       "      <td>54</td>\n",
       "      <td>139.330237</td>\n",
       "      <td>-34.288659</td>\n",
       "      <td>139.330227</td>\n",
       "      <td>-34.288644</td>\n",
       "      <td>20.0</td>\n",
       "      <td>78.00</td>\n",
       "      <td>-90.0</td>\n",
       "      <td>NaN</td>\n",
       "      <td>GPS</td>\n",
       "      <td>Global Positioning System</td>\n",
       "    </tr>\n",
       "    <tr>\n",
       "      <th>3</th>\n",
       "      <td>147532</td>\n",
       "      <td>STO 3</td>\n",
       "      <td>NaN</td>\n",
       "      <td>N</td>\n",
       "      <td>NaN</td>\n",
       "      <td>N</td>\n",
       "      <td>NaN</td>\n",
       "      <td>6729 1508</td>\n",
       "      <td>66.1</td>\n",
       "      <td>1995-02-16</td>\n",
       "      <td>NaN</td>\n",
       "      <td></td>\n",
       "      <td>SDM</td>\n",
       "      <td>South Australia. Department of Mines and Energy.</td>\n",
       "      <td>Gold, Base Metals, Metalliferous Minerals</td>\n",
       "      <td>Y</td>\n",
       "      <td>N</td>\n",
       "      <td>N</td>\n",
       "      <td>N</td>\n",
       "      <td>N</td>\n",
       "      <td>N</td>\n",
       "      <td>N</td>\n",
       "      <td>Reverse Circulation</td>\n",
       "      <td>N</td>\n",
       "      <td>Y</td>\n",
       "      <td>Y</td>\n",
       "      <td>Y</td>\n",
       "      <td>N</td>\n",
       "      <td>N</td>\n",
       "      <td>N</td>\n",
       "      <td>Y</td>\n",
       "      <td>Y</td>\n",
       "      <td>N</td>\n",
       "      <td>NaN</td>\n",
       "      <td>SI5409 ADELAIDE</td>\n",
       "      <td>6729 Eudunda</td>\n",
       "      <td>2</td>\n",
       "      <td>195112</td>\n",
       "      <td>347322.45</td>\n",
       "      <td>6204592.72</td>\n",
       "      <td>54</td>\n",
       "      <td>139.341165</td>\n",
       "      <td>-34.288653</td>\n",
       "      <td>139.341155</td>\n",
       "      <td>-34.288638</td>\n",
       "      <td>20.0</td>\n",
       "      <td>66.00</td>\n",
       "      <td>-90.0</td>\n",
       "      <td>NaN</td>\n",
       "      <td>GPS</td>\n",
       "      <td>Global Positioning System</td>\n",
       "    </tr>\n",
       "    <tr>\n",
       "      <th>4</th>\n",
       "      <td>147533</td>\n",
       "      <td>STO 4</td>\n",
       "      <td>NaN</td>\n",
       "      <td>N</td>\n",
       "      <td>NaN</td>\n",
       "      <td>N</td>\n",
       "      <td>NaN</td>\n",
       "      <td>6729 1509</td>\n",
       "      <td>126.0</td>\n",
       "      <td>1995-02-17</td>\n",
       "      <td>NaN</td>\n",
       "      <td></td>\n",
       "      <td>SDM</td>\n",
       "      <td>South Australia. Department of Mines and Energy.</td>\n",
       "      <td>Gold, Base Metals, Metalliferous Minerals</td>\n",
       "      <td>Y</td>\n",
       "      <td>N</td>\n",
       "      <td>N</td>\n",
       "      <td>N</td>\n",
       "      <td>N</td>\n",
       "      <td>N</td>\n",
       "      <td>N</td>\n",
       "      <td>Reverse Circulation</td>\n",
       "      <td>N</td>\n",
       "      <td>Y</td>\n",
       "      <td>Y</td>\n",
       "      <td>Y</td>\n",
       "      <td>N</td>\n",
       "      <td>Y</td>\n",
       "      <td>N</td>\n",
       "      <td>Y</td>\n",
       "      <td>Y</td>\n",
       "      <td>Y</td>\n",
       "      <td>LOST CIRCULATION ABANDONDED HOLE, Traverse: T1...</td>\n",
       "      <td>SI5409 ADELAIDE</td>\n",
       "      <td>6729 Eudunda</td>\n",
       "      <td>2</td>\n",
       "      <td>195113</td>\n",
       "      <td>349603.60</td>\n",
       "      <td>6204634.65</td>\n",
       "      <td>54</td>\n",
       "      <td>139.365948</td>\n",
       "      <td>-34.288607</td>\n",
       "      <td>139.365938</td>\n",
       "      <td>-34.288593</td>\n",
       "      <td>20.0</td>\n",
       "      <td>55.00</td>\n",
       "      <td>-90.0</td>\n",
       "      <td>NaN</td>\n",
       "      <td>GPS</td>\n",
       "      <td>Global Positioning System</td>\n",
       "    </tr>\n",
       "  </tbody>\n",
       "</table>\n",
       "</div>"
      ],
      "text/plain": [
       "   DRILLHOLE_NO  DH_NAME DH_OTHER_NAME PACE_DH  PACE_ROUND_NO  \\\n",
       "0         61638  BH34 34           NaN       N            NaN   \n",
       "1        147530    STO 1           NaN       N            NaN   \n",
       "2        147531    STO 2           NaN       N            NaN   \n",
       "3        147532    STO 3           NaN       N            NaN   \n",
       "4        147533    STO 4           NaN       N            NaN   \n",
       "\n",
       "  REPRESENTATIVE_DH        REPRESENTATIVE_DH_COMMENTS  DH_UNIT_NO  \\\n",
       "0                 N  1 OF 35 AUGER HOLES IN TAILINGS.  6628 14669   \n",
       "1                 N                               NaN   6729 1506   \n",
       "2                 N                               NaN   6729 1507   \n",
       "3                 N                               NaN   6729 1508   \n",
       "4                 N                               NaN   6729 1509   \n",
       "\n",
       "   MAX_DRILLED_DEPTH MAX_DRILLED_DEPTH_DATE  CORED_LENGTH TENEMENT  \\\n",
       "0              144.2             2017-06-17           0.0            \n",
       "1              155.5             1995-02-14           NaN            \n",
       "2               94.0             1995-02-15           NaN            \n",
       "3               66.1             1995-02-16           NaN            \n",
       "4              126.0             1995-02-17           NaN            \n",
       "\n",
       "  OPERATOR_CODE                                     OPERATOR_NAME  \\\n",
       "0           SDM  South Australia. Department of Mines and Energy.   \n",
       "1           SDM  South Australia. Department of Mines and Energy.   \n",
       "2           SDM  South Australia. Department of Mines and Energy.   \n",
       "3           SDM  South Australia. Department of Mines and Energy.   \n",
       "4           SDM  South Australia. Department of Mines and Energy.   \n",
       "\n",
       "                          TARGET_COMMODITIES MINERAL_CLASS PETROLEUM_CLASS  \\\n",
       "0                               Gold, Copper             Y               N   \n",
       "1  Gold, Base Metals, Metalliferous Minerals             Y               N   \n",
       "2  Gold, Base Metals, Metalliferous Minerals             Y               N   \n",
       "3  Gold, Base Metals, Metalliferous Minerals             Y               N   \n",
       "4  Gold, Base Metals, Metalliferous Minerals             Y               N   \n",
       "\n",
       "  STRATIGRAPHIC_CLASS ENGINEERING_CLASS SEISMIC_POINT_CLASS WATER_WELL_CLASS  \\\n",
       "0                   N                 N                   N                N   \n",
       "1                   N                 N                   N                N   \n",
       "2                   N                 N                   N                N   \n",
       "3                   N                 N                   N                N   \n",
       "4                   N                 N                   N                N   \n",
       "\n",
       "  WATER_POINT_CLASS      DRILLING_METHODS STRAT_LOG LITHO_LOG  \\\n",
       "0                 N         Auger (Hand)          N         N   \n",
       "1                 N  Reverse Circulation          N         Y   \n",
       "2                 N  Reverse Circulation          N         Y   \n",
       "3                 N  Reverse Circulation          N         Y   \n",
       "4                 N  Reverse Circulation          N         Y   \n",
       "\n",
       "  PETROPHYSICAL_LOG GEOCHEMISTRY PETROLOGY BIOSTRATIGRAPHY SPECTRAL_SCANNED  \\\n",
       "0                 N            N         N               N                N   \n",
       "1                 Y            Y         Y               N                N   \n",
       "2                 Y            Y         N               N                N   \n",
       "3                 Y            Y         N               N                N   \n",
       "4                 Y            Y         N               Y                N   \n",
       "\n",
       "  CORE_LIBRARY REFERENCES HISTORICAL_DOCUMENTS  \\\n",
       "0            Y          Y                    Y   \n",
       "1            Y          Y                    N   \n",
       "2            Y          Y                    Y   \n",
       "3            Y          Y                    N   \n",
       "4            Y          Y                    Y   \n",
       "\n",
       "                                            COMMENTS       MAP_250000  \\\n",
       "0                                          Tailings.  SI5409 ADELAIDE   \n",
       "1                                                NaN  SI5409 ADELAIDE   \n",
       "2  BLOCKED OFF IN SANDS TERMINATED HOLE, Traverse...  SI5409 ADELAIDE   \n",
       "3                                                NaN  SI5409 ADELAIDE   \n",
       "4  LOST CIRCULATION ABANDONDED HOLE, Traverse: T1...  SI5409 ADELAIDE   \n",
       "\n",
       "      MAP_100000  MAP_50K_NO  SITE_NO  EASTING_GDA2020  NORTHING_GDA2020  \\\n",
       "0  6628 Adelaide           2   325873        308944.99        6129703.52   \n",
       "1   6729 Eudunda           2   195110        344854.61        6204552.69   \n",
       "2   6729 Eudunda           2   195111        346316.55        6204575.59   \n",
       "3   6729 Eudunda           2   195112        347322.45        6204592.72   \n",
       "4   6729 Eudunda           2   195113        349603.60        6204634.65   \n",
       "\n",
       "   ZONE_GDA2020  LONGITUDE_GDA2020  LATITUDE_GDA2020  LONGITUDE_GDA94  \\\n",
       "0            54         138.907534        -34.957203       138.907524   \n",
       "1            54         139.314355        -34.288648       139.314345   \n",
       "2            54         139.330237        -34.288659       139.330227   \n",
       "3            54         139.341165        -34.288653       139.341155   \n",
       "4            54         139.365948        -34.288607       139.365938   \n",
       "\n",
       "   LATITUDE_GDA94  HORIZ_ACCRCY_M  ELEVATION_M  INCLINATION  AZIMUTH  \\\n",
       "0      -34.957189            10.0       444.35        -90.0      NaN   \n",
       "1      -34.288633            20.0       102.00        -90.0      NaN   \n",
       "2      -34.288644            20.0        78.00        -90.0      NaN   \n",
       "3      -34.288638            20.0        66.00        -90.0      NaN   \n",
       "4      -34.288593            20.0        55.00        -90.0      NaN   \n",
       "\n",
       "  SURVEY_METHOD_CODE              SURVEY_METHOD  \n",
       "0              GPSUN           GPS type unknown  \n",
       "1                GPS  Global Positioning System  \n",
       "2                GPS  Global Positioning System  \n",
       "3                GPS  Global Positioning System  \n",
       "4                GPS  Global Positioning System  "
      ]
     },
     "execution_count": 3,
     "metadata": {},
     "output_type": "execute_result"
    }
   ],
   "source": [
    "#load Gold data\n",
    "df_gold = pd.read_csv('Cleaned_datasets/sarig_dh_details_Gold.csv')\n",
    "df_gold.head()"
   ]
  },
  {
   "cell_type": "code",
   "execution_count": 4,
   "metadata": {},
   "outputs": [
    {
     "data": {
      "text/plain": [
       "41979"
      ]
     },
     "execution_count": 4,
     "metadata": {},
     "output_type": "execute_result"
    }
   ],
   "source": [
    "# Get unique drill hole values and get the total number\n",
    "dh_nos_gold = df_gold.DRILLHOLE_NO.unique()\n",
    "len(dh_nos_gold)"
   ]
  },
  {
   "cell_type": "markdown",
   "metadata": {},
   "source": [
    "### Chunking - Processing Large CSV files\n",
    "\n",
    "The **sarig_rs_chem_exp.csv** is a 10GB CSV file. Loading the entire CSV into a pandas DF is not possible unless you have 32GB+ RAM. As most people will be doing this on laptops with lower memory, we can use Panda's Chunking technique to load the file in chunks and process each chunk individually.\n",
    "\n",
    "Our aim is to extract assay information for only those boreholes that exist in our **sarig_dh_details_Gold.csv** dataset."
   ]
  },
  {
   "cell_type": "code",
   "execution_count": 5,
   "metadata": {},
   "outputs": [
    {
     "name": "stderr",
     "output_type": "stream",
     "text": [
      "C:\\Users\\Russell\\Anaconda3\\envs\\PythonGPU\\lib\\site-packages\\IPython\\core\\interactiveshell.py:3020: DtypeWarning: Columns (6,10,13,28,30,34,35) have mixed types.Specify dtype option on import or set low_memory=False.\n",
      "  interactivity=interactivity, compiler=compiler, result=result)\n"
     ]
    },
    {
     "name": "stdout",
     "output_type": "stream",
     "text": [
      "0\n"
     ]
    },
    {
     "name": "stderr",
     "output_type": "stream",
     "text": [
      "C:\\Users\\Russell\\Anaconda3\\envs\\PythonGPU\\lib\\site-packages\\IPython\\core\\interactiveshell.py:3020: DtypeWarning: Columns (3,4,5,6,7,8,9,10,11,16,28) have mixed types.Specify dtype option on import or set low_memory=False.\n",
      "  interactivity=interactivity, compiler=compiler, result=result)\n"
     ]
    },
    {
     "name": "stdout",
     "output_type": "stream",
     "text": [
      "1\n"
     ]
    },
    {
     "name": "stderr",
     "output_type": "stream",
     "text": [
      "C:\\Users\\Russell\\Anaconda3\\envs\\PythonGPU\\lib\\site-packages\\IPython\\core\\interactiveshell.py:3020: DtypeWarning: Columns (3,4,5,6,7,8,9,10,11,13,16,28,30,32) have mixed types.Specify dtype option on import or set low_memory=False.\n",
      "  interactivity=interactivity, compiler=compiler, result=result)\n"
     ]
    },
    {
     "name": "stdout",
     "output_type": "stream",
     "text": [
      "2\n"
     ]
    },
    {
     "name": "stderr",
     "output_type": "stream",
     "text": [
      "C:\\Users\\Russell\\Anaconda3\\envs\\PythonGPU\\lib\\site-packages\\IPython\\core\\interactiveshell.py:3020: DtypeWarning: Columns (3,4,5,7,8,9,11,13,28,32) have mixed types.Specify dtype option on import or set low_memory=False.\n",
      "  interactivity=interactivity, compiler=compiler, result=result)\n"
     ]
    },
    {
     "name": "stdout",
     "output_type": "stream",
     "text": [
      "3\n"
     ]
    },
    {
     "name": "stderr",
     "output_type": "stream",
     "text": [
      "C:\\Users\\Russell\\Anaconda3\\envs\\PythonGPU\\lib\\site-packages\\IPython\\core\\interactiveshell.py:3020: DtypeWarning: Columns (3,4,5,7,9,10,11,13,28,30) have mixed types.Specify dtype option on import or set low_memory=False.\n",
      "  interactivity=interactivity, compiler=compiler, result=result)\n"
     ]
    },
    {
     "name": "stdout",
     "output_type": "stream",
     "text": [
      "4\n"
     ]
    },
    {
     "name": "stderr",
     "output_type": "stream",
     "text": [
      "C:\\Users\\Russell\\Anaconda3\\envs\\PythonGPU\\lib\\site-packages\\IPython\\core\\interactiveshell.py:3020: DtypeWarning: Columns (3,4,5,6,7,8,9,10,11,28) have mixed types.Specify dtype option on import or set low_memory=False.\n",
      "  interactivity=interactivity, compiler=compiler, result=result)\n"
     ]
    },
    {
     "name": "stdout",
     "output_type": "stream",
     "text": [
      "5\n"
     ]
    },
    {
     "name": "stderr",
     "output_type": "stream",
     "text": [
      "C:\\Users\\Russell\\Anaconda3\\envs\\PythonGPU\\lib\\site-packages\\IPython\\core\\interactiveshell.py:3020: DtypeWarning: Columns (3,4,5,6,7,8,9,10,11,13,28) have mixed types.Specify dtype option on import or set low_memory=False.\n",
      "  interactivity=interactivity, compiler=compiler, result=result)\n"
     ]
    },
    {
     "name": "stdout",
     "output_type": "stream",
     "text": [
      "6\n",
      "7\n"
     ]
    },
    {
     "name": "stderr",
     "output_type": "stream",
     "text": [
      "C:\\Users\\Russell\\Anaconda3\\envs\\PythonGPU\\lib\\site-packages\\IPython\\core\\interactiveshell.py:3020: DtypeWarning: Columns (3,4,5,7,8,9,10,11,28,32) have mixed types.Specify dtype option on import or set low_memory=False.\n",
      "  interactivity=interactivity, compiler=compiler, result=result)\n"
     ]
    },
    {
     "name": "stdout",
     "output_type": "stream",
     "text": [
      "8\n"
     ]
    },
    {
     "name": "stderr",
     "output_type": "stream",
     "text": [
      "C:\\Users\\Russell\\Anaconda3\\envs\\PythonGPU\\lib\\site-packages\\IPython\\core\\interactiveshell.py:3020: DtypeWarning: Columns (28,32) have mixed types.Specify dtype option on import or set low_memory=False.\n",
      "  interactivity=interactivity, compiler=compiler, result=result)\n"
     ]
    },
    {
     "name": "stdout",
     "output_type": "stream",
     "text": [
      "9\n",
      "10\n"
     ]
    },
    {
     "name": "stderr",
     "output_type": "stream",
     "text": [
      "C:\\Users\\Russell\\Anaconda3\\envs\\PythonGPU\\lib\\site-packages\\IPython\\core\\interactiveshell.py:3020: DtypeWarning: Columns (32) have mixed types.Specify dtype option on import or set low_memory=False.\n",
      "  interactivity=interactivity, compiler=compiler, result=result)\n"
     ]
    },
    {
     "name": "stdout",
     "output_type": "stream",
     "text": [
      "11\n",
      "12\n",
      "13\n",
      "14\n",
      "15\n",
      "16\n",
      "17\n",
      "18\n",
      "19\n",
      "20\n",
      "21\n",
      "22\n",
      "23\n",
      "24\n",
      "25\n",
      "26\n",
      "27\n"
     ]
    },
    {
     "name": "stderr",
     "output_type": "stream",
     "text": [
      "C:\\Users\\Russell\\Anaconda3\\envs\\PythonGPU\\lib\\site-packages\\IPython\\core\\interactiveshell.py:3020: DtypeWarning: Columns (3,4,5,7,9,10,11,28,32) have mixed types.Specify dtype option on import or set low_memory=False.\n",
      "  interactivity=interactivity, compiler=compiler, result=result)\n"
     ]
    },
    {
     "name": "stdout",
     "output_type": "stream",
     "text": [
      "28\n"
     ]
    },
    {
     "name": "stderr",
     "output_type": "stream",
     "text": [
      "C:\\Users\\Russell\\Anaconda3\\envs\\PythonGPU\\lib\\site-packages\\IPython\\core\\interactiveshell.py:3020: DtypeWarning: Columns (3,4,5,7,9,11,16,28) have mixed types.Specify dtype option on import or set low_memory=False.\n",
      "  interactivity=interactivity, compiler=compiler, result=result)\n"
     ]
    },
    {
     "name": "stdout",
     "output_type": "stream",
     "text": [
      "29\n",
      "30\n",
      "31\n",
      "32\n",
      "33\n",
      "34\n"
     ]
    },
    {
     "name": "stderr",
     "output_type": "stream",
     "text": [
      "C:\\Users\\Russell\\Anaconda3\\envs\\PythonGPU\\lib\\site-packages\\IPython\\core\\interactiveshell.py:3020: DtypeWarning: Columns (3,4,5,6,7,8,9,10,11,28,32) have mixed types.Specify dtype option on import or set low_memory=False.\n",
      "  interactivity=interactivity, compiler=compiler, result=result)\n"
     ]
    },
    {
     "name": "stdout",
     "output_type": "stream",
     "text": [
      "35\n"
     ]
    },
    {
     "name": "stderr",
     "output_type": "stream",
     "text": [
      "C:\\Users\\Russell\\Anaconda3\\envs\\PythonGPU\\lib\\site-packages\\IPython\\core\\interactiveshell.py:3020: DtypeWarning: Columns (3,4,5,6,7,8,9,10,11,14,16,28,30) have mixed types.Specify dtype option on import or set low_memory=False.\n",
      "  interactivity=interactivity, compiler=compiler, result=result)\n"
     ]
    },
    {
     "name": "stdout",
     "output_type": "stream",
     "text": [
      "36\n"
     ]
    },
    {
     "name": "stderr",
     "output_type": "stream",
     "text": [
      "C:\\Users\\Russell\\Anaconda3\\envs\\PythonGPU\\lib\\site-packages\\IPython\\core\\interactiveshell.py:3020: DtypeWarning: Columns (3,4,5,6,7,8,9,10,11,13,16,28) have mixed types.Specify dtype option on import or set low_memory=False.\n",
      "  interactivity=interactivity, compiler=compiler, result=result)\n"
     ]
    },
    {
     "name": "stdout",
     "output_type": "stream",
     "text": [
      "37\n",
      "38\n",
      "39\n"
     ]
    },
    {
     "name": "stderr",
     "output_type": "stream",
     "text": [
      "C:\\Users\\Russell\\Anaconda3\\envs\\PythonGPU\\lib\\site-packages\\IPython\\core\\interactiveshell.py:3020: DtypeWarning: Columns (3,4,5,7,9,10,11) have mixed types.Specify dtype option on import or set low_memory=False.\n",
      "  interactivity=interactivity, compiler=compiler, result=result)\n"
     ]
    },
    {
     "name": "stdout",
     "output_type": "stream",
     "text": [
      "40\n"
     ]
    },
    {
     "name": "stderr",
     "output_type": "stream",
     "text": [
      "C:\\Users\\Russell\\Anaconda3\\envs\\PythonGPU\\lib\\site-packages\\IPython\\core\\interactiveshell.py:3020: DtypeWarning: Columns (3,4,5,7,8,9,10,11,13,28) have mixed types.Specify dtype option on import or set low_memory=False.\n",
      "  interactivity=interactivity, compiler=compiler, result=result)\n"
     ]
    },
    {
     "name": "stdout",
     "output_type": "stream",
     "text": [
      "41\n",
      "42\n"
     ]
    },
    {
     "name": "stderr",
     "output_type": "stream",
     "text": [
      "C:\\Users\\Russell\\Anaconda3\\envs\\PythonGPU\\lib\\site-packages\\IPython\\core\\interactiveshell.py:3020: DtypeWarning: Columns (13,28,32) have mixed types.Specify dtype option on import or set low_memory=False.\n",
      "  interactivity=interactivity, compiler=compiler, result=result)\n"
     ]
    },
    {
     "name": "stdout",
     "output_type": "stream",
     "text": [
      "43\n"
     ]
    },
    {
     "name": "stderr",
     "output_type": "stream",
     "text": [
      "C:\\Users\\Russell\\Anaconda3\\envs\\PythonGPU\\lib\\site-packages\\IPython\\core\\interactiveshell.py:3020: DtypeWarning: Columns (3,4,5,7,9,11,28,32) have mixed types.Specify dtype option on import or set low_memory=False.\n",
      "  interactivity=interactivity, compiler=compiler, result=result)\n"
     ]
    },
    {
     "name": "stdout",
     "output_type": "stream",
     "text": [
      "44\n"
     ]
    },
    {
     "name": "stderr",
     "output_type": "stream",
     "text": [
      "C:\\Users\\Russell\\Anaconda3\\envs\\PythonGPU\\lib\\site-packages\\IPython\\core\\interactiveshell.py:3020: DtypeWarning: Columns (3,4,5,6,7,9,10,11,28) have mixed types.Specify dtype option on import or set low_memory=False.\n",
      "  interactivity=interactivity, compiler=compiler, result=result)\n"
     ]
    },
    {
     "name": "stdout",
     "output_type": "stream",
     "text": [
      "45\n"
     ]
    },
    {
     "name": "stderr",
     "output_type": "stream",
     "text": [
      "C:\\Users\\Russell\\Anaconda3\\envs\\PythonGPU\\lib\\site-packages\\IPython\\core\\interactiveshell.py:3020: DtypeWarning: Columns (3,4,5,7,9,10,11,28) have mixed types.Specify dtype option on import or set low_memory=False.\n",
      "  interactivity=interactivity, compiler=compiler, result=result)\n"
     ]
    },
    {
     "name": "stdout",
     "output_type": "stream",
     "text": [
      "46\n"
     ]
    },
    {
     "name": "stderr",
     "output_type": "stream",
     "text": [
      "C:\\Users\\Russell\\Anaconda3\\envs\\PythonGPU\\lib\\site-packages\\IPython\\core\\interactiveshell.py:3020: DtypeWarning: Columns (3,4,5,7,13,28) have mixed types.Specify dtype option on import or set low_memory=False.\n",
      "  interactivity=interactivity, compiler=compiler, result=result)\n"
     ]
    },
    {
     "name": "stdout",
     "output_type": "stream",
     "text": [
      "47\n"
     ]
    },
    {
     "name": "stderr",
     "output_type": "stream",
     "text": [
      "C:\\Users\\Russell\\Anaconda3\\envs\\PythonGPU\\lib\\site-packages\\IPython\\core\\interactiveshell.py:3020: DtypeWarning: Columns (3,4,5,7,16,28) have mixed types.Specify dtype option on import or set low_memory=False.\n",
      "  interactivity=interactivity, compiler=compiler, result=result)\n"
     ]
    },
    {
     "name": "stdout",
     "output_type": "stream",
     "text": [
      "48\n"
     ]
    },
    {
     "name": "stderr",
     "output_type": "stream",
     "text": [
      "C:\\Users\\Russell\\Anaconda3\\envs\\PythonGPU\\lib\\site-packages\\IPython\\core\\interactiveshell.py:3020: DtypeWarning: Columns (3,4,5,7,28) have mixed types.Specify dtype option on import or set low_memory=False.\n",
      "  interactivity=interactivity, compiler=compiler, result=result)\n"
     ]
    },
    {
     "name": "stdout",
     "output_type": "stream",
     "text": [
      "49\n",
      "50\n",
      "51\n"
     ]
    },
    {
     "name": "stderr",
     "output_type": "stream",
     "text": [
      "C:\\Users\\Russell\\Anaconda3\\envs\\PythonGPU\\lib\\site-packages\\IPython\\core\\interactiveshell.py:3020: DtypeWarning: Columns (13,28) have mixed types.Specify dtype option on import or set low_memory=False.\n",
      "  interactivity=interactivity, compiler=compiler, result=result)\n"
     ]
    },
    {
     "name": "stdout",
     "output_type": "stream",
     "text": [
      "52\n"
     ]
    },
    {
     "name": "stderr",
     "output_type": "stream",
     "text": [
      "C:\\Users\\Russell\\Anaconda3\\envs\\PythonGPU\\lib\\site-packages\\IPython\\core\\interactiveshell.py:3020: DtypeWarning: Columns (3,4,5,6,7,8,9,10,11,13,28,32) have mixed types.Specify dtype option on import or set low_memory=False.\n",
      "  interactivity=interactivity, compiler=compiler, result=result)\n"
     ]
    },
    {
     "name": "stdout",
     "output_type": "stream",
     "text": [
      "53\n",
      "54\n"
     ]
    },
    {
     "name": "stderr",
     "output_type": "stream",
     "text": [
      "C:\\Users\\Russell\\Anaconda3\\envs\\PythonGPU\\lib\\site-packages\\IPython\\core\\interactiveshell.py:3020: DtypeWarning: Columns (3,4,5,7,8,9,11,13,16,28) have mixed types.Specify dtype option on import or set low_memory=False.\n",
      "  interactivity=interactivity, compiler=compiler, result=result)\n"
     ]
    },
    {
     "name": "stdout",
     "output_type": "stream",
     "text": [
      "55\n"
     ]
    },
    {
     "name": "stderr",
     "output_type": "stream",
     "text": [
      "C:\\Users\\Russell\\Anaconda3\\envs\\PythonGPU\\lib\\site-packages\\IPython\\core\\interactiveshell.py:3020: DtypeWarning: Columns (3,4,5,6,7,8,13,28) have mixed types.Specify dtype option on import or set low_memory=False.\n",
      "  interactivity=interactivity, compiler=compiler, result=result)\n"
     ]
    },
    {
     "name": "stdout",
     "output_type": "stream",
     "text": [
      "56\n",
      "57\n"
     ]
    },
    {
     "name": "stderr",
     "output_type": "stream",
     "text": [
      "C:\\Users\\Russell\\Anaconda3\\envs\\PythonGPU\\lib\\site-packages\\IPython\\core\\interactiveshell.py:3020: DtypeWarning: Columns (3,4,5,7,8,9,10,11,28) have mixed types.Specify dtype option on import or set low_memory=False.\n",
      "  interactivity=interactivity, compiler=compiler, result=result)\n"
     ]
    },
    {
     "name": "stdout",
     "output_type": "stream",
     "text": [
      "58\n",
      "59\n"
     ]
    },
    {
     "name": "stderr",
     "output_type": "stream",
     "text": [
      "C:\\Users\\Russell\\Anaconda3\\envs\\PythonGPU\\lib\\site-packages\\IPython\\core\\interactiveshell.py:3020: DtypeWarning: Columns (3,4,5,7,9,10,11,13,28) have mixed types.Specify dtype option on import or set low_memory=False.\n",
      "  interactivity=interactivity, compiler=compiler, result=result)\n"
     ]
    },
    {
     "name": "stdout",
     "output_type": "stream",
     "text": [
      "60\n",
      "61\n",
      "62\n",
      "63\n",
      "64\n",
      "65\n",
      "66\n",
      "67\n",
      "68\n",
      "69\n",
      "70\n"
     ]
    },
    {
     "name": "stderr",
     "output_type": "stream",
     "text": [
      "C:\\Users\\Russell\\Anaconda3\\envs\\PythonGPU\\lib\\site-packages\\IPython\\core\\interactiveshell.py:3020: DtypeWarning: Columns (28) have mixed types.Specify dtype option on import or set low_memory=False.\n",
      "  interactivity=interactivity, compiler=compiler, result=result)\n"
     ]
    },
    {
     "name": "stdout",
     "output_type": "stream",
     "text": [
      "71\n",
      "72\n"
     ]
    },
    {
     "name": "stderr",
     "output_type": "stream",
     "text": [
      "C:\\Users\\Russell\\Anaconda3\\envs\\PythonGPU\\lib\\site-packages\\IPython\\core\\interactiveshell.py:3020: DtypeWarning: Columns (3,4,5,6,7,8,9,10,11,13,14,28) have mixed types.Specify dtype option on import or set low_memory=False.\n",
      "  interactivity=interactivity, compiler=compiler, result=result)\n"
     ]
    },
    {
     "name": "stdout",
     "output_type": "stream",
     "text": [
      "73\n"
     ]
    },
    {
     "name": "stderr",
     "output_type": "stream",
     "text": [
      "C:\\Users\\Russell\\Anaconda3\\envs\\PythonGPU\\lib\\site-packages\\IPython\\core\\interactiveshell.py:3020: DtypeWarning: Columns (3,4,5,6,7,8,9,10,11,13,16,28,34) have mixed types.Specify dtype option on import or set low_memory=False.\n",
      "  interactivity=interactivity, compiler=compiler, result=result)\n"
     ]
    },
    {
     "name": "stdout",
     "output_type": "stream",
     "text": [
      "74\n"
     ]
    },
    {
     "name": "stderr",
     "output_type": "stream",
     "text": [
      "C:\\Users\\Russell\\Anaconda3\\envs\\PythonGPU\\lib\\site-packages\\IPython\\core\\interactiveshell.py:3020: DtypeWarning: Columns (3,4,5,7,8,9,10,11,28,30) have mixed types.Specify dtype option on import or set low_memory=False.\n",
      "  interactivity=interactivity, compiler=compiler, result=result)\n"
     ]
    },
    {
     "name": "stdout",
     "output_type": "stream",
     "text": [
      "75\n",
      "76\n"
     ]
    },
    {
     "name": "stderr",
     "output_type": "stream",
     "text": [
      "C:\\Users\\Russell\\Anaconda3\\envs\\PythonGPU\\lib\\site-packages\\IPython\\core\\interactiveshell.py:3020: DtypeWarning: Columns (3,4,5,7,8,9,10,11,13,16,28) have mixed types.Specify dtype option on import or set low_memory=False.\n",
      "  interactivity=interactivity, compiler=compiler, result=result)\n"
     ]
    },
    {
     "name": "stdout",
     "output_type": "stream",
     "text": [
      "77\n",
      "78\n",
      "79\n",
      "80\n"
     ]
    },
    {
     "name": "stderr",
     "output_type": "stream",
     "text": [
      "C:\\Users\\Russell\\Anaconda3\\envs\\PythonGPU\\lib\\site-packages\\IPython\\core\\interactiveshell.py:3020: DtypeWarning: Columns (3,4,5,6,7,8,9,10,11) have mixed types.Specify dtype option on import or set low_memory=False.\n",
      "  interactivity=interactivity, compiler=compiler, result=result)\n"
     ]
    },
    {
     "name": "stdout",
     "output_type": "stream",
     "text": [
      "81\n",
      "82\n"
     ]
    },
    {
     "name": "stderr",
     "output_type": "stream",
     "text": [
      "C:\\Users\\Russell\\Anaconda3\\envs\\PythonGPU\\lib\\site-packages\\IPython\\core\\interactiveshell.py:3020: DtypeWarning: Columns (3,4,5,7,9,10,11,13) have mixed types.Specify dtype option on import or set low_memory=False.\n",
      "  interactivity=interactivity, compiler=compiler, result=result)\n"
     ]
    },
    {
     "name": "stdout",
     "output_type": "stream",
     "text": [
      "83\n",
      "84\n",
      "85\n",
      "86\n"
     ]
    },
    {
     "name": "stderr",
     "output_type": "stream",
     "text": [
      "C:\\Users\\Russell\\Anaconda3\\envs\\PythonGPU\\lib\\site-packages\\IPython\\core\\interactiveshell.py:3020: DtypeWarning: Columns (13) have mixed types.Specify dtype option on import or set low_memory=False.\n",
      "  interactivity=interactivity, compiler=compiler, result=result)\n"
     ]
    },
    {
     "name": "stdout",
     "output_type": "stream",
     "text": [
      "87\n",
      "88\n",
      "89\n",
      "90\n"
     ]
    },
    {
     "name": "stderr",
     "output_type": "stream",
     "text": [
      "C:\\Users\\Russell\\Anaconda3\\envs\\PythonGPU\\lib\\site-packages\\IPython\\core\\interactiveshell.py:3020: DtypeWarning: Columns (3,4,5,7,8,9,10,11,13,28,32) have mixed types.Specify dtype option on import or set low_memory=False.\n",
      "  interactivity=interactivity, compiler=compiler, result=result)\n"
     ]
    },
    {
     "name": "stdout",
     "output_type": "stream",
     "text": [
      "91\n"
     ]
    },
    {
     "name": "stderr",
     "output_type": "stream",
     "text": [
      "C:\\Users\\Russell\\Anaconda3\\envs\\PythonGPU\\lib\\site-packages\\IPython\\core\\interactiveshell.py:3020: DtypeWarning: Columns (6,8,9,10,11,13,14,28,30) have mixed types.Specify dtype option on import or set low_memory=False.\n",
      "  interactivity=interactivity, compiler=compiler, result=result)\n"
     ]
    },
    {
     "name": "stdout",
     "output_type": "stream",
     "text": [
      "92\n",
      "93\n"
     ]
    },
    {
     "name": "stderr",
     "output_type": "stream",
     "text": [
      "C:\\Users\\Russell\\Anaconda3\\envs\\PythonGPU\\lib\\site-packages\\IPython\\core\\interactiveshell.py:3020: DtypeWarning: Columns (3,4,5,6,7,8,9,10,11,13,16,28,30) have mixed types.Specify dtype option on import or set low_memory=False.\n",
      "  interactivity=interactivity, compiler=compiler, result=result)\n"
     ]
    },
    {
     "name": "stdout",
     "output_type": "stream",
     "text": [
      "94\n",
      "95\n"
     ]
    },
    {
     "name": "stderr",
     "output_type": "stream",
     "text": [
      "C:\\Users\\Russell\\Anaconda3\\envs\\PythonGPU\\lib\\site-packages\\IPython\\core\\interactiveshell.py:3020: DtypeWarning: Columns (3,4,5,7,8,9,11,16) have mixed types.Specify dtype option on import or set low_memory=False.\n",
      "  interactivity=interactivity, compiler=compiler, result=result)\n"
     ]
    },
    {
     "name": "stdout",
     "output_type": "stream",
     "text": [
      "96\n",
      "97\n",
      "98\n",
      "99\n",
      "100\n",
      "101\n",
      "102\n",
      "103\n",
      "104\n",
      "105\n"
     ]
    },
    {
     "name": "stderr",
     "output_type": "stream",
     "text": [
      "C:\\Users\\Russell\\Anaconda3\\envs\\PythonGPU\\lib\\site-packages\\IPython\\core\\interactiveshell.py:3020: DtypeWarning: Columns (16,28) have mixed types.Specify dtype option on import or set low_memory=False.\n",
      "  interactivity=interactivity, compiler=compiler, result=result)\n"
     ]
    },
    {
     "name": "stdout",
     "output_type": "stream",
     "text": [
      "106\n",
      "107\n",
      "108\n",
      "109\n",
      "110\n",
      "111\n",
      "112\n",
      "113\n",
      "114\n",
      "115\n"
     ]
    },
    {
     "name": "stderr",
     "output_type": "stream",
     "text": [
      "C:\\Users\\Russell\\Anaconda3\\envs\\PythonGPU\\lib\\site-packages\\IPython\\core\\interactiveshell.py:3020: DtypeWarning: Columns (3,4,5,6,7,8,9,10,11,13,14,28,32) have mixed types.Specify dtype option on import or set low_memory=False.\n",
      "  interactivity=interactivity, compiler=compiler, result=result)\n"
     ]
    },
    {
     "name": "stdout",
     "output_type": "stream",
     "text": [
      "116\n"
     ]
    },
    {
     "name": "stderr",
     "output_type": "stream",
     "text": [
      "C:\\Users\\Russell\\Anaconda3\\envs\\PythonGPU\\lib\\site-packages\\IPython\\core\\interactiveshell.py:3020: DtypeWarning: Columns (3,4,5,6,7,8,9,10,11,13,16,28,32) have mixed types.Specify dtype option on import or set low_memory=False.\n",
      "  interactivity=interactivity, compiler=compiler, result=result)\n"
     ]
    },
    {
     "name": "stdout",
     "output_type": "stream",
     "text": [
      "117\n",
      "118\n"
     ]
    },
    {
     "name": "stderr",
     "output_type": "stream",
     "text": [
      "C:\\Users\\Russell\\Anaconda3\\envs\\PythonGPU\\lib\\site-packages\\IPython\\core\\interactiveshell.py:3020: DtypeWarning: Columns (3,4,5,7,8,9,10,11,13,16,28,32) have mixed types.Specify dtype option on import or set low_memory=False.\n",
      "  interactivity=interactivity, compiler=compiler, result=result)\n"
     ]
    },
    {
     "name": "stdout",
     "output_type": "stream",
     "text": [
      "119\n",
      "120\n",
      "121\n",
      "122\n"
     ]
    },
    {
     "name": "stderr",
     "output_type": "stream",
     "text": [
      "C:\\Users\\Russell\\Anaconda3\\envs\\PythonGPU\\lib\\site-packages\\IPython\\core\\interactiveshell.py:3020: DtypeWarning: Columns (3,4,5,7,9,11,28) have mixed types.Specify dtype option on import or set low_memory=False.\n",
      "  interactivity=interactivity, compiler=compiler, result=result)\n"
     ]
    },
    {
     "name": "stdout",
     "output_type": "stream",
     "text": [
      "123\n",
      "124\n",
      "125\n",
      "126\n",
      "127\n"
     ]
    },
    {
     "name": "stderr",
     "output_type": "stream",
     "text": [
      "C:\\Users\\Russell\\Anaconda3\\envs\\PythonGPU\\lib\\site-packages\\IPython\\core\\interactiveshell.py:3020: DtypeWarning: Columns (3,4,5,7,9,11) have mixed types.Specify dtype option on import or set low_memory=False.\n",
      "  interactivity=interactivity, compiler=compiler, result=result)\n"
     ]
    },
    {
     "name": "stdout",
     "output_type": "stream",
     "text": [
      "128\n",
      "129\n",
      "130\n",
      "131\n",
      "132\n",
      "133\n",
      "134\n",
      "135\n"
     ]
    },
    {
     "name": "stderr",
     "output_type": "stream",
     "text": [
      "C:\\Users\\Russell\\Anaconda3\\envs\\PythonGPU\\lib\\site-packages\\IPython\\core\\interactiveshell.py:3020: DtypeWarning: Columns (3,4,5,6,7,8,9,10,11,13) have mixed types.Specify dtype option on import or set low_memory=False.\n",
      "  interactivity=interactivity, compiler=compiler, result=result)\n"
     ]
    },
    {
     "name": "stdout",
     "output_type": "stream",
     "text": [
      "136\n",
      "137\n",
      "138\n",
      "139\n"
     ]
    },
    {
     "name": "stderr",
     "output_type": "stream",
     "text": [
      "C:\\Users\\Russell\\Anaconda3\\envs\\PythonGPU\\lib\\site-packages\\IPython\\core\\interactiveshell.py:3020: DtypeWarning: Columns (3,4,5,7,8,9,11,13,16,28,30) have mixed types.Specify dtype option on import or set low_memory=False.\n",
      "  interactivity=interactivity, compiler=compiler, result=result)\n"
     ]
    },
    {
     "name": "stdout",
     "output_type": "stream",
     "text": [
      "140\n",
      "141\n",
      "142\n",
      "143\n",
      "144\n"
     ]
    },
    {
     "name": "stderr",
     "output_type": "stream",
     "text": [
      "C:\\Users\\Russell\\Anaconda3\\envs\\PythonGPU\\lib\\site-packages\\IPython\\core\\interactiveshell.py:3020: DtypeWarning: Columns (3,4,5,7,8,9,11,13,28) have mixed types.Specify dtype option on import or set low_memory=False.\n",
      "  interactivity=interactivity, compiler=compiler, result=result)\n"
     ]
    },
    {
     "name": "stdout",
     "output_type": "stream",
     "text": [
      "145\n",
      "146\n",
      "147\n",
      "148\n",
      "149\n"
     ]
    },
    {
     "name": "stderr",
     "output_type": "stream",
     "text": [
      "C:\\Users\\Russell\\Anaconda3\\envs\\PythonGPU\\lib\\site-packages\\IPython\\core\\interactiveshell.py:3020: DtypeWarning: Columns (3,4,5,7,13,28,32) have mixed types.Specify dtype option on import or set low_memory=False.\n",
      "  interactivity=interactivity, compiler=compiler, result=result)\n"
     ]
    },
    {
     "name": "stdout",
     "output_type": "stream",
     "text": [
      "150\n",
      "151\n",
      "152\n"
     ]
    }
   ],
   "source": [
    "df_iter = pd.read_csv('SARIG_Data_Package/sarig_rs_chem_exp.csv', chunksize=200000)\n",
    "\n",
    "dh_nos_list = []\n",
    "\n",
    "for chunk_no, chunk in enumerate(df_iter):\n",
    "    \n",
    "    print(chunk_no)\n",
    "    dh_nos = chunk.DRILLHOLE_NUMBER.values\n",
    "    dh_nos_list.append(dh_nos)"
   ]
  },
  {
   "cell_type": "code",
   "execution_count": 6,
   "metadata": {},
   "outputs": [],
   "source": [
    "# Flattening Lists of DH nos from individual chunks into one list\n",
    "\n",
    "import itertools\n",
    "\n",
    "flattened_list  = list(itertools.chain(*dh_nos_list))"
   ]
  },
  {
   "cell_type": "code",
   "execution_count": 7,
   "metadata": {},
   "outputs": [
    {
     "data": {
      "text/plain": [
       "(41979, 30445428)"
      ]
     },
     "execution_count": 7,
     "metadata": {},
     "output_type": "execute_result"
    }
   ],
   "source": [
    "#Checking the lengths of both our lists\n",
    "\n",
    "len(dh_nos_gold), len(flattened_list)"
   ]
  },
  {
   "cell_type": "markdown",
   "metadata": {},
   "source": [
    "#### Matching Drill holes from *dh_nos_gold* list to the ones in our *flattened_list* and getting the index number\n",
    "\n",
    "Wells from one list can be easily matched with another using loops or list comprehension. Our flattened list contains 30M values. Matching 41k individual values to 30M values can take days. We can solve this problem in seconds using a nifty hack - Table Joins, and it only takes 10 seconds!\n"
   ]
  },
  {
   "cell_type": "code",
   "execution_count": 8,
   "metadata": {},
   "outputs": [
    {
     "data": {
      "text/html": [
       "<div>\n",
       "<style scoped>\n",
       "    .dataframe tbody tr th:only-of-type {\n",
       "        vertical-align: middle;\n",
       "    }\n",
       "\n",
       "    .dataframe tbody tr th {\n",
       "        vertical-align: top;\n",
       "    }\n",
       "\n",
       "    .dataframe thead th {\n",
       "        text-align: right;\n",
       "    }\n",
       "</style>\n",
       "<table border=\"1\" class=\"dataframe\">\n",
       "  <thead>\n",
       "    <tr style=\"text-align: right;\">\n",
       "      <th></th>\n",
       "      <th>dh_gold_name</th>\n",
       "    </tr>\n",
       "  </thead>\n",
       "  <tbody>\n",
       "    <tr>\n",
       "      <th>0</th>\n",
       "      <td>61638</td>\n",
       "    </tr>\n",
       "    <tr>\n",
       "      <th>1</th>\n",
       "      <td>147530</td>\n",
       "    </tr>\n",
       "    <tr>\n",
       "      <th>2</th>\n",
       "      <td>147531</td>\n",
       "    </tr>\n",
       "    <tr>\n",
       "      <th>3</th>\n",
       "      <td>147532</td>\n",
       "    </tr>\n",
       "    <tr>\n",
       "      <th>4</th>\n",
       "      <td>147533</td>\n",
       "    </tr>\n",
       "  </tbody>\n",
       "</table>\n",
       "</div>"
      ],
      "text/plain": [
       "   dh_gold_name\n",
       "0         61638\n",
       "1        147530\n",
       "2        147531\n",
       "3        147532\n",
       "4        147533"
      ]
     },
     "execution_count": 8,
     "metadata": {},
     "output_type": "execute_result"
    }
   ],
   "source": [
    "#Creating a DF from our lists\n",
    "df_dh_nos_gold = pd.DataFrame(dh_nos_gold, columns=['dh_gold_name'])\n",
    "df_dh_nos_gold.head()"
   ]
  },
  {
   "cell_type": "code",
   "execution_count": 9,
   "metadata": {},
   "outputs": [
    {
     "data": {
      "text/html": [
       "<div>\n",
       "<style scoped>\n",
       "    .dataframe tbody tr th:only-of-type {\n",
       "        vertical-align: middle;\n",
       "    }\n",
       "\n",
       "    .dataframe tbody tr th {\n",
       "        vertical-align: top;\n",
       "    }\n",
       "\n",
       "    .dataframe thead th {\n",
       "        text-align: right;\n",
       "    }\n",
       "</style>\n",
       "<table border=\"1\" class=\"dataframe\">\n",
       "  <thead>\n",
       "    <tr style=\"text-align: right;\">\n",
       "      <th></th>\n",
       "      <th>dh_gold_flat_list</th>\n",
       "    </tr>\n",
       "  </thead>\n",
       "  <tbody>\n",
       "    <tr>\n",
       "      <th>0</th>\n",
       "      <td>NaN</td>\n",
       "    </tr>\n",
       "    <tr>\n",
       "      <th>1</th>\n",
       "      <td>NaN</td>\n",
       "    </tr>\n",
       "    <tr>\n",
       "      <th>2</th>\n",
       "      <td>NaN</td>\n",
       "    </tr>\n",
       "    <tr>\n",
       "      <th>3</th>\n",
       "      <td>NaN</td>\n",
       "    </tr>\n",
       "    <tr>\n",
       "      <th>4</th>\n",
       "      <td>NaN</td>\n",
       "    </tr>\n",
       "  </tbody>\n",
       "</table>\n",
       "</div>"
      ],
      "text/plain": [
       "   dh_gold_flat_list\n",
       "0                NaN\n",
       "1                NaN\n",
       "2                NaN\n",
       "3                NaN\n",
       "4                NaN"
      ]
     },
     "execution_count": 9,
     "metadata": {},
     "output_type": "execute_result"
    }
   ],
   "source": [
    "df_dh_nos_flat_list = pd.DataFrame(flattened_list, columns=['dh_gold_flat_list'])\n",
    "df_dh_nos_flat_list.head()"
   ]
  },
  {
   "cell_type": "markdown",
   "metadata": {},
   "source": [
    "We can merge *df_dh_nos_flat_list* with *df_dh_nos_gold* using a left join."
   ]
  },
  {
   "cell_type": "code",
   "execution_count": 10,
   "metadata": {},
   "outputs": [],
   "source": [
    "merged_left = pd.merge(left=df_dh_nos_flat_list, right=df_dh_nos_gold, how='left', left_on='dh_gold_flat_list', right_on='dh_gold_name')"
   ]
  },
  {
   "cell_type": "markdown",
   "metadata": {},
   "source": [
    "Lets look at a quick sample of our merged dataset"
   ]
  },
  {
   "cell_type": "code",
   "execution_count": 11,
   "metadata": {},
   "outputs": [
    {
     "data": {
      "text/html": [
       "<div>\n",
       "<style scoped>\n",
       "    .dataframe tbody tr th:only-of-type {\n",
       "        vertical-align: middle;\n",
       "    }\n",
       "\n",
       "    .dataframe tbody tr th {\n",
       "        vertical-align: top;\n",
       "    }\n",
       "\n",
       "    .dataframe thead th {\n",
       "        text-align: right;\n",
       "    }\n",
       "</style>\n",
       "<table border=\"1\" class=\"dataframe\">\n",
       "  <thead>\n",
       "    <tr style=\"text-align: right;\">\n",
       "      <th></th>\n",
       "      <th>dh_gold_flat_list</th>\n",
       "      <th>dh_gold_name</th>\n",
       "    </tr>\n",
       "  </thead>\n",
       "  <tbody>\n",
       "    <tr>\n",
       "      <th>7962877</th>\n",
       "      <td>208084.0</td>\n",
       "      <td>208084.0</td>\n",
       "    </tr>\n",
       "    <tr>\n",
       "      <th>9487681</th>\n",
       "      <td>312954.0</td>\n",
       "      <td>312954.0</td>\n",
       "    </tr>\n",
       "    <tr>\n",
       "      <th>21025391</th>\n",
       "      <td>291003.0</td>\n",
       "      <td>NaN</td>\n",
       "    </tr>\n",
       "    <tr>\n",
       "      <th>2449982</th>\n",
       "      <td>293124.0</td>\n",
       "      <td>293124.0</td>\n",
       "    </tr>\n",
       "    <tr>\n",
       "      <th>12774522</th>\n",
       "      <td>312914.0</td>\n",
       "      <td>312914.0</td>\n",
       "    </tr>\n",
       "    <tr>\n",
       "      <th>3692404</th>\n",
       "      <td>293419.0</td>\n",
       "      <td>293419.0</td>\n",
       "    </tr>\n",
       "    <tr>\n",
       "      <th>2950280</th>\n",
       "      <td>293372.0</td>\n",
       "      <td>293372.0</td>\n",
       "    </tr>\n",
       "    <tr>\n",
       "      <th>20326093</th>\n",
       "      <td>272986.0</td>\n",
       "      <td>272986.0</td>\n",
       "    </tr>\n",
       "    <tr>\n",
       "      <th>4826356</th>\n",
       "      <td>293540.0</td>\n",
       "      <td>293540.0</td>\n",
       "    </tr>\n",
       "    <tr>\n",
       "      <th>29042667</th>\n",
       "      <td>269336.0</td>\n",
       "      <td>269336.0</td>\n",
       "    </tr>\n",
       "    <tr>\n",
       "      <th>9552714</th>\n",
       "      <td>305014.0</td>\n",
       "      <td>305014.0</td>\n",
       "    </tr>\n",
       "    <tr>\n",
       "      <th>19199370</th>\n",
       "      <td>NaN</td>\n",
       "      <td>NaN</td>\n",
       "    </tr>\n",
       "    <tr>\n",
       "      <th>15909562</th>\n",
       "      <td>281148.0</td>\n",
       "      <td>281148.0</td>\n",
       "    </tr>\n",
       "    <tr>\n",
       "      <th>21312202</th>\n",
       "      <td>304926.0</td>\n",
       "      <td>304926.0</td>\n",
       "    </tr>\n",
       "    <tr>\n",
       "      <th>10537766</th>\n",
       "      <td>312444.0</td>\n",
       "      <td>312444.0</td>\n",
       "    </tr>\n",
       "    <tr>\n",
       "      <th>15163208</th>\n",
       "      <td>219144.0</td>\n",
       "      <td>NaN</td>\n",
       "    </tr>\n",
       "    <tr>\n",
       "      <th>9156891</th>\n",
       "      <td>276149.0</td>\n",
       "      <td>276149.0</td>\n",
       "    </tr>\n",
       "    <tr>\n",
       "      <th>14273706</th>\n",
       "      <td>313075.0</td>\n",
       "      <td>313075.0</td>\n",
       "    </tr>\n",
       "    <tr>\n",
       "      <th>21597686</th>\n",
       "      <td>316125.0</td>\n",
       "      <td>316125.0</td>\n",
       "    </tr>\n",
       "    <tr>\n",
       "      <th>13524200</th>\n",
       "      <td>313033.0</td>\n",
       "      <td>313033.0</td>\n",
       "    </tr>\n",
       "    <tr>\n",
       "      <th>27555376</th>\n",
       "      <td>203837.0</td>\n",
       "      <td>203837.0</td>\n",
       "    </tr>\n",
       "    <tr>\n",
       "      <th>19487282</th>\n",
       "      <td>NaN</td>\n",
       "      <td>NaN</td>\n",
       "    </tr>\n",
       "    <tr>\n",
       "      <th>5087302</th>\n",
       "      <td>293498.0</td>\n",
       "      <td>293498.0</td>\n",
       "    </tr>\n",
       "    <tr>\n",
       "      <th>3053823</th>\n",
       "      <td>293223.0</td>\n",
       "      <td>293223.0</td>\n",
       "    </tr>\n",
       "    <tr>\n",
       "      <th>14580730</th>\n",
       "      <td>332936.0</td>\n",
       "      <td>332936.0</td>\n",
       "    </tr>\n",
       "    <tr>\n",
       "      <th>6977977</th>\n",
       "      <td>332856.0</td>\n",
       "      <td>332856.0</td>\n",
       "    </tr>\n",
       "    <tr>\n",
       "      <th>7107487</th>\n",
       "      <td>332862.0</td>\n",
       "      <td>332862.0</td>\n",
       "    </tr>\n",
       "    <tr>\n",
       "      <th>282683</th>\n",
       "      <td>NaN</td>\n",
       "      <td>NaN</td>\n",
       "    </tr>\n",
       "    <tr>\n",
       "      <th>15772419</th>\n",
       "      <td>277182.0</td>\n",
       "      <td>NaN</td>\n",
       "    </tr>\n",
       "    <tr>\n",
       "      <th>24710502</th>\n",
       "      <td>313594.0</td>\n",
       "      <td>NaN</td>\n",
       "    </tr>\n",
       "  </tbody>\n",
       "</table>\n",
       "</div>"
      ],
      "text/plain": [
       "          dh_gold_flat_list  dh_gold_name\n",
       "7962877            208084.0      208084.0\n",
       "9487681            312954.0      312954.0\n",
       "21025391           291003.0           NaN\n",
       "2449982            293124.0      293124.0\n",
       "12774522           312914.0      312914.0\n",
       "3692404            293419.0      293419.0\n",
       "2950280            293372.0      293372.0\n",
       "20326093           272986.0      272986.0\n",
       "4826356            293540.0      293540.0\n",
       "29042667           269336.0      269336.0\n",
       "9552714            305014.0      305014.0\n",
       "19199370                NaN           NaN\n",
       "15909562           281148.0      281148.0\n",
       "21312202           304926.0      304926.0\n",
       "10537766           312444.0      312444.0\n",
       "15163208           219144.0           NaN\n",
       "9156891            276149.0      276149.0\n",
       "14273706           313075.0      313075.0\n",
       "21597686           316125.0      316125.0\n",
       "13524200           313033.0      313033.0\n",
       "27555376           203837.0      203837.0\n",
       "19487282                NaN           NaN\n",
       "5087302            293498.0      293498.0\n",
       "3053823            293223.0      293223.0\n",
       "14580730           332936.0      332936.0\n",
       "6977977            332856.0      332856.0\n",
       "7107487            332862.0      332862.0\n",
       "282683                  NaN           NaN\n",
       "15772419           277182.0           NaN\n",
       "24710502           313594.0           NaN"
      ]
     },
     "execution_count": 11,
     "metadata": {},
     "output_type": "execute_result"
    }
   ],
   "source": [
    "merged_left.sample(30)"
   ]
  },
  {
   "cell_type": "code",
   "execution_count": 12,
   "metadata": {},
   "outputs": [],
   "source": [
    "#Dropping all columns with NULL values to get reqired drill holes\n",
    "merged_left_dropna = merged_left.dropna()"
   ]
  },
  {
   "cell_type": "code",
   "execution_count": 13,
   "metadata": {},
   "outputs": [
    {
     "data": {
      "text/html": [
       "<div>\n",
       "<style scoped>\n",
       "    .dataframe tbody tr th:only-of-type {\n",
       "        vertical-align: middle;\n",
       "    }\n",
       "\n",
       "    .dataframe tbody tr th {\n",
       "        vertical-align: top;\n",
       "    }\n",
       "\n",
       "    .dataframe thead th {\n",
       "        text-align: right;\n",
       "    }\n",
       "</style>\n",
       "<table border=\"1\" class=\"dataframe\">\n",
       "  <thead>\n",
       "    <tr style=\"text-align: right;\">\n",
       "      <th></th>\n",
       "      <th>dh_gold_flat_list</th>\n",
       "      <th>dh_gold_name</th>\n",
       "    </tr>\n",
       "  </thead>\n",
       "  <tbody>\n",
       "    <tr>\n",
       "      <th>12951079</th>\n",
       "      <td>312838.0</td>\n",
       "      <td>312838.0</td>\n",
       "    </tr>\n",
       "    <tr>\n",
       "      <th>11260316</th>\n",
       "      <td>226405.0</td>\n",
       "      <td>226405.0</td>\n",
       "    </tr>\n",
       "    <tr>\n",
       "      <th>13261399</th>\n",
       "      <td>313033.0</td>\n",
       "      <td>313033.0</td>\n",
       "    </tr>\n",
       "    <tr>\n",
       "      <th>13507941</th>\n",
       "      <td>313013.0</td>\n",
       "      <td>313013.0</td>\n",
       "    </tr>\n",
       "    <tr>\n",
       "      <th>6822739</th>\n",
       "      <td>332833.0</td>\n",
       "      <td>332833.0</td>\n",
       "    </tr>\n",
       "    <tr>\n",
       "      <th>12070060</th>\n",
       "      <td>312968.0</td>\n",
       "      <td>312968.0</td>\n",
       "    </tr>\n",
       "    <tr>\n",
       "      <th>8948878</th>\n",
       "      <td>265066.0</td>\n",
       "      <td>265066.0</td>\n",
       "    </tr>\n",
       "    <tr>\n",
       "      <th>26999827</th>\n",
       "      <td>332810.0</td>\n",
       "      <td>332810.0</td>\n",
       "    </tr>\n",
       "    <tr>\n",
       "      <th>9173671</th>\n",
       "      <td>276160.0</td>\n",
       "      <td>276160.0</td>\n",
       "    </tr>\n",
       "    <tr>\n",
       "      <th>23274257</th>\n",
       "      <td>332880.0</td>\n",
       "      <td>332880.0</td>\n",
       "    </tr>\n",
       "  </tbody>\n",
       "</table>\n",
       "</div>"
      ],
      "text/plain": [
       "          dh_gold_flat_list  dh_gold_name\n",
       "12951079           312838.0      312838.0\n",
       "11260316           226405.0      226405.0\n",
       "13261399           313033.0      313033.0\n",
       "13507941           313013.0      313013.0\n",
       "6822739            332833.0      332833.0\n",
       "12070060           312968.0      312968.0\n",
       "8948878            265066.0      265066.0\n",
       "26999827           332810.0      332810.0\n",
       "9173671            276160.0      276160.0\n",
       "23274257           332880.0      332880.0"
      ]
     },
     "execution_count": 13,
     "metadata": {},
     "output_type": "execute_result"
    }
   ],
   "source": [
    "#another sample after dropping nulls\n",
    "merged_left_dropna.sample(10)"
   ]
  },
  {
   "cell_type": "code",
   "execution_count": 14,
   "metadata": {},
   "outputs": [],
   "source": [
    "#Extracting index of drill holes into list\n",
    "final_index_dh_gold =  merged_left_dropna.index.values"
   ]
  },
  {
   "cell_type": "code",
   "execution_count": 18,
   "metadata": {},
   "outputs": [],
   "source": [
    "#Saving the list to disk for later use\n",
    "with open('Cleaned_datasets/final_index_dh_gold.pkl', 'wb') as f:\n",
    "    pickle.dump(final_index_dh_gold, f)"
   ]
  },
  {
   "cell_type": "code",
   "execution_count": 15,
   "metadata": {},
   "outputs": [
    {
     "data": {
      "text/plain": [
       "19552741"
      ]
     },
     "execution_count": 15,
     "metadata": {},
     "output_type": "execute_result"
    }
   ],
   "source": [
    "#Number of rows we will need to extract from Assay DF\n",
    "len(final_index_dh_gold)"
   ]
  },
  {
   "cell_type": "code",
   "execution_count": 17,
   "metadata": {},
   "outputs": [
    {
     "data": {
      "text/plain": [
       "array([  14,   37,   38,   39,   40,   41,   42,   43,   44,   45,   46,\n",
       "         47,   48,   96,   97,   98, 2348, 2349, 2361, 2373, 2385, 2397,\n",
       "       2398, 2399, 2411, 2412, 2413, 2414, 2415, 2416, 2417, 2429, 2430,\n",
       "       2431, 2432, 2444, 2445, 2446, 2447, 2448, 2449, 2450, 2451, 2452,\n",
       "       2453, 2454, 2455, 2456, 2457, 2458, 2459, 2460, 2461, 2548, 2549,\n",
       "       2947, 2948, 2950, 2951, 2952, 2953, 2954, 2955, 2956, 2957, 2958,\n",
       "       2959, 2960, 2961, 3806, 3807, 3808, 3809, 3810, 3811, 3812, 3813,\n",
       "       3814, 3815, 3816, 3817, 3818, 3819, 3820, 3821, 3822, 3823, 3824,\n",
       "       3825, 3826, 3827, 3828, 3829, 3830, 3831, 4711, 4712, 4713, 4714,\n",
       "       4715], dtype=int64)"
      ]
     },
     "execution_count": 17,
     "metadata": {},
     "output_type": "execute_result"
    }
   ],
   "source": [
    "#preview of the first 100 index values in the list\n",
    "\n",
    "final_index_dh_gold[:100]"
   ]
  },
  {
   "cell_type": "code",
   "execution_count": null,
   "metadata": {},
   "outputs": [],
   "source": []
  }
 ],
 "metadata": {
  "kernelspec": {
   "display_name": "Python 3",
   "language": "python",
   "name": "python3"
  },
  "language_info": {
   "codemirror_mode": {
    "name": "ipython",
    "version": 3
   },
   "file_extension": ".py",
   "mimetype": "text/x-python",
   "name": "python",
   "nbconvert_exporter": "python",
   "pygments_lexer": "ipython3",
   "version": "3.6.6"
  }
 },
 "nbformat": 4,
 "nbformat_minor": 4
}
