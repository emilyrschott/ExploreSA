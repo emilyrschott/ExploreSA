{
 "cells": [
  {
   "cell_type": "markdown",
   "metadata": {},
   "source": [
    "## CSV Extractor\n",
    "\n",
    "After getting the index(row) numbers of the DH's of interest we will extract these rows from the massive **sarig_rs_chem_exp** dataset"
   ]
  },
  {
   "cell_type": "code",
   "execution_count": 14,
   "metadata": {},
   "outputs": [],
   "source": [
    "import pandas as pd\n",
    "import numpy as np\n",
    "import itertools\n",
    "import os\n",
    "import pickle\n",
    "\n",
    "pd.set_option('display.max_columns', None)"
   ]
  },
  {
   "cell_type": "code",
   "execution_count": 17,
   "metadata": {},
   "outputs": [
    {
     "data": {
      "text/plain": [
       "'H:\\\\ExploreSA'"
      ]
     },
     "execution_count": 17,
     "metadata": {},
     "output_type": "execute_result"
    }
   ],
   "source": [
    "os.chdir('..')\n",
    "os.getcwd()"
   ]
  },
  {
   "cell_type": "markdown",
   "metadata": {},
   "source": [
    "##### Let us load the index values of the matched drill holes that we need to extract from the Assay CSV"
   ]
  },
  {
   "cell_type": "code",
   "execution_count": 18,
   "metadata": {},
   "outputs": [],
   "source": [
    "#Loading Pickle file\n",
    "with open('Cleaned_datasets/final_index_dh_gold.pkl', 'rb') as f:\n",
    "    final_index_dh_gold = pickle.load(f)"
   ]
  },
  {
   "cell_type": "code",
   "execution_count": 19,
   "metadata": {},
   "outputs": [
    {
     "data": {
      "text/plain": [
       "19552741"
      ]
     },
     "execution_count": 19,
     "metadata": {},
     "output_type": "execute_result"
    }
   ],
   "source": [
    "#Number of rows (index) to extract\n",
    "len(final_index_dh_gold)"
   ]
  },
  {
   "cell_type": "code",
   "execution_count": 20,
   "metadata": {},
   "outputs": [
    {
     "data": {
      "text/plain": [
       "30422287"
      ]
     },
     "execution_count": 20,
     "metadata": {},
     "output_type": "execute_result"
    }
   ],
   "source": [
    "max(final_index_dh_gold)"
   ]
  },
  {
   "cell_type": "markdown",
   "metadata": {},
   "source": [
    "#### Chunking II\n",
    "\n",
    "We again make use of chunking to help us match the correct index numbers and extract the correct rows. Read the comments to understand the process"
   ]
  },
  {
   "cell_type": "code",
   "execution_count": 75,
   "metadata": {},
   "outputs": [
    {
     "name": "stderr",
     "output_type": "stream",
     "text": [
      "C:\\Users\\Russell\\Anaconda3\\envs\\PythonGPU\\lib\\site-packages\\IPython\\core\\interactiveshell.py:3020: DtypeWarning: Columns (6,10,13,28,30,34,35) have mixed types.Specify dtype option on import or set low_memory=False.\n",
      "  interactivity=interactivity, compiler=compiler, result=result)\n"
     ]
    },
    {
     "name": "stdout",
     "output_type": "stream",
     "text": [
      "0 RangeIndex(start=0, stop=200000, step=1)\n"
     ]
    },
    {
     "name": "stderr",
     "output_type": "stream",
     "text": [
      "C:\\Users\\Russell\\Anaconda3\\envs\\PythonGPU\\lib\\site-packages\\IPython\\core\\interactiveshell.py:3020: DtypeWarning: Columns (3,4,5,6,7,8,9,10,11,16,28) have mixed types.Specify dtype option on import or set low_memory=False.\n",
      "  interactivity=interactivity, compiler=compiler, result=result)\n"
     ]
    },
    {
     "name": "stdout",
     "output_type": "stream",
     "text": [
      "1 RangeIndex(start=200000, stop=400000, step=1)\n"
     ]
    },
    {
     "name": "stderr",
     "output_type": "stream",
     "text": [
      "C:\\Users\\Russell\\Anaconda3\\envs\\PythonGPU\\lib\\site-packages\\IPython\\core\\interactiveshell.py:3020: DtypeWarning: Columns (3,4,5,6,7,8,9,10,11,13,16,28,30,32) have mixed types.Specify dtype option on import or set low_memory=False.\n",
      "  interactivity=interactivity, compiler=compiler, result=result)\n"
     ]
    },
    {
     "name": "stdout",
     "output_type": "stream",
     "text": [
      "2 RangeIndex(start=400000, stop=600000, step=1)\n"
     ]
    },
    {
     "name": "stderr",
     "output_type": "stream",
     "text": [
      "C:\\Users\\Russell\\Anaconda3\\envs\\PythonGPU\\lib\\site-packages\\IPython\\core\\interactiveshell.py:3020: DtypeWarning: Columns (3,4,5,7,8,9,11,13,28,32) have mixed types.Specify dtype option on import or set low_memory=False.\n",
      "  interactivity=interactivity, compiler=compiler, result=result)\n"
     ]
    },
    {
     "name": "stdout",
     "output_type": "stream",
     "text": [
      "3 RangeIndex(start=600000, stop=800000, step=1)\n"
     ]
    },
    {
     "name": "stderr",
     "output_type": "stream",
     "text": [
      "C:\\Users\\Russell\\Anaconda3\\envs\\PythonGPU\\lib\\site-packages\\IPython\\core\\interactiveshell.py:3020: DtypeWarning: Columns (3,4,5,7,9,10,11,13,28,30) have mixed types.Specify dtype option on import or set low_memory=False.\n",
      "  interactivity=interactivity, compiler=compiler, result=result)\n"
     ]
    },
    {
     "name": "stdout",
     "output_type": "stream",
     "text": [
      "4 RangeIndex(start=800000, stop=1000000, step=1)\n"
     ]
    },
    {
     "name": "stderr",
     "output_type": "stream",
     "text": [
      "C:\\Users\\Russell\\Anaconda3\\envs\\PythonGPU\\lib\\site-packages\\IPython\\core\\interactiveshell.py:3020: DtypeWarning: Columns (3,4,5,6,7,8,9,10,11,28) have mixed types.Specify dtype option on import or set low_memory=False.\n",
      "  interactivity=interactivity, compiler=compiler, result=result)\n"
     ]
    },
    {
     "name": "stdout",
     "output_type": "stream",
     "text": [
      "5 RangeIndex(start=1000000, stop=1200000, step=1)\n"
     ]
    },
    {
     "name": "stderr",
     "output_type": "stream",
     "text": [
      "C:\\Users\\Russell\\Anaconda3\\envs\\PythonGPU\\lib\\site-packages\\IPython\\core\\interactiveshell.py:3020: DtypeWarning: Columns (3,4,5,6,7,8,9,10,11,13,28) have mixed types.Specify dtype option on import or set low_memory=False.\n",
      "  interactivity=interactivity, compiler=compiler, result=result)\n"
     ]
    },
    {
     "name": "stdout",
     "output_type": "stream",
     "text": [
      "6 RangeIndex(start=1200000, stop=1400000, step=1)\n",
      "7 RangeIndex(start=1400000, stop=1600000, step=1)\n"
     ]
    },
    {
     "name": "stderr",
     "output_type": "stream",
     "text": [
      "C:\\Users\\Russell\\Anaconda3\\envs\\PythonGPU\\lib\\site-packages\\IPython\\core\\interactiveshell.py:3020: DtypeWarning: Columns (3,4,5,7,8,9,10,11,28,32) have mixed types.Specify dtype option on import or set low_memory=False.\n",
      "  interactivity=interactivity, compiler=compiler, result=result)\n"
     ]
    },
    {
     "name": "stdout",
     "output_type": "stream",
     "text": [
      "8 RangeIndex(start=1600000, stop=1800000, step=1)\n"
     ]
    },
    {
     "name": "stderr",
     "output_type": "stream",
     "text": [
      "C:\\Users\\Russell\\Anaconda3\\envs\\PythonGPU\\lib\\site-packages\\IPython\\core\\interactiveshell.py:3020: DtypeWarning: Columns (28,32) have mixed types.Specify dtype option on import or set low_memory=False.\n",
      "  interactivity=interactivity, compiler=compiler, result=result)\n"
     ]
    },
    {
     "name": "stdout",
     "output_type": "stream",
     "text": [
      "9 RangeIndex(start=1800000, stop=2000000, step=1)\n",
      "10 RangeIndex(start=2000000, stop=2200000, step=1)\n"
     ]
    },
    {
     "name": "stderr",
     "output_type": "stream",
     "text": [
      "C:\\Users\\Russell\\Anaconda3\\envs\\PythonGPU\\lib\\site-packages\\IPython\\core\\interactiveshell.py:3020: DtypeWarning: Columns (32) have mixed types.Specify dtype option on import or set low_memory=False.\n",
      "  interactivity=interactivity, compiler=compiler, result=result)\n"
     ]
    },
    {
     "name": "stdout",
     "output_type": "stream",
     "text": [
      "11 RangeIndex(start=2200000, stop=2400000, step=1)\n",
      "12 RangeIndex(start=2400000, stop=2600000, step=1)\n",
      "13 RangeIndex(start=2600000, stop=2800000, step=1)\n",
      "14 RangeIndex(start=2800000, stop=3000000, step=1)\n",
      "15 RangeIndex(start=3000000, stop=3200000, step=1)\n",
      "16 RangeIndex(start=3200000, stop=3400000, step=1)\n",
      "17 RangeIndex(start=3400000, stop=3600000, step=1)\n",
      "18 RangeIndex(start=3600000, stop=3800000, step=1)\n",
      "19 RangeIndex(start=3800000, stop=4000000, step=1)\n",
      "20 RangeIndex(start=4000000, stop=4200000, step=1)\n",
      "21 RangeIndex(start=4200000, stop=4400000, step=1)\n",
      "22 RangeIndex(start=4400000, stop=4600000, step=1)\n",
      "23 RangeIndex(start=4600000, stop=4800000, step=1)\n",
      "24 RangeIndex(start=4800000, stop=5000000, step=1)\n",
      "25 RangeIndex(start=5000000, stop=5200000, step=1)\n",
      "26 RangeIndex(start=5200000, stop=5400000, step=1)\n",
      "27 RangeIndex(start=5400000, stop=5600000, step=1)\n"
     ]
    },
    {
     "name": "stderr",
     "output_type": "stream",
     "text": [
      "C:\\Users\\Russell\\Anaconda3\\envs\\PythonGPU\\lib\\site-packages\\IPython\\core\\interactiveshell.py:3020: DtypeWarning: Columns (3,4,5,7,9,10,11,28,32) have mixed types.Specify dtype option on import or set low_memory=False.\n",
      "  interactivity=interactivity, compiler=compiler, result=result)\n"
     ]
    },
    {
     "name": "stdout",
     "output_type": "stream",
     "text": [
      "28 RangeIndex(start=5600000, stop=5800000, step=1)\n"
     ]
    },
    {
     "name": "stderr",
     "output_type": "stream",
     "text": [
      "C:\\Users\\Russell\\Anaconda3\\envs\\PythonGPU\\lib\\site-packages\\IPython\\core\\interactiveshell.py:3020: DtypeWarning: Columns (3,4,5,7,9,11,16,28) have mixed types.Specify dtype option on import or set low_memory=False.\n",
      "  interactivity=interactivity, compiler=compiler, result=result)\n"
     ]
    },
    {
     "name": "stdout",
     "output_type": "stream",
     "text": [
      "29 RangeIndex(start=5800000, stop=6000000, step=1)\n",
      "30 RangeIndex(start=6000000, stop=6200000, step=1)\n",
      "31 RangeIndex(start=6200000, stop=6400000, step=1)\n",
      "32 RangeIndex(start=6400000, stop=6600000, step=1)\n",
      "33 RangeIndex(start=6600000, stop=6800000, step=1)\n",
      "34 RangeIndex(start=6800000, stop=7000000, step=1)\n"
     ]
    },
    {
     "name": "stderr",
     "output_type": "stream",
     "text": [
      "C:\\Users\\Russell\\Anaconda3\\envs\\PythonGPU\\lib\\site-packages\\IPython\\core\\interactiveshell.py:3020: DtypeWarning: Columns (3,4,5,6,7,8,9,10,11,28,32) have mixed types.Specify dtype option on import or set low_memory=False.\n",
      "  interactivity=interactivity, compiler=compiler, result=result)\n"
     ]
    },
    {
     "name": "stdout",
     "output_type": "stream",
     "text": [
      "35 RangeIndex(start=7000000, stop=7200000, step=1)\n"
     ]
    },
    {
     "name": "stderr",
     "output_type": "stream",
     "text": [
      "C:\\Users\\Russell\\Anaconda3\\envs\\PythonGPU\\lib\\site-packages\\IPython\\core\\interactiveshell.py:3020: DtypeWarning: Columns (3,4,5,6,7,8,9,10,11,14,16,28,30) have mixed types.Specify dtype option on import or set low_memory=False.\n",
      "  interactivity=interactivity, compiler=compiler, result=result)\n"
     ]
    },
    {
     "name": "stdout",
     "output_type": "stream",
     "text": [
      "36 RangeIndex(start=7200000, stop=7400000, step=1)\n"
     ]
    },
    {
     "name": "stderr",
     "output_type": "stream",
     "text": [
      "C:\\Users\\Russell\\Anaconda3\\envs\\PythonGPU\\lib\\site-packages\\IPython\\core\\interactiveshell.py:3020: DtypeWarning: Columns (3,4,5,6,7,8,9,10,11,13,16,28) have mixed types.Specify dtype option on import or set low_memory=False.\n",
      "  interactivity=interactivity, compiler=compiler, result=result)\n"
     ]
    },
    {
     "name": "stdout",
     "output_type": "stream",
     "text": [
      "37 RangeIndex(start=7400000, stop=7600000, step=1)\n",
      "38 RangeIndex(start=7600000, stop=7800000, step=1)\n",
      "39 RangeIndex(start=7800000, stop=8000000, step=1)\n"
     ]
    },
    {
     "name": "stderr",
     "output_type": "stream",
     "text": [
      "C:\\Users\\Russell\\Anaconda3\\envs\\PythonGPU\\lib\\site-packages\\IPython\\core\\interactiveshell.py:3020: DtypeWarning: Columns (3,4,5,7,9,10,11) have mixed types.Specify dtype option on import or set low_memory=False.\n",
      "  interactivity=interactivity, compiler=compiler, result=result)\n"
     ]
    },
    {
     "name": "stdout",
     "output_type": "stream",
     "text": [
      "40 RangeIndex(start=8000000, stop=8200000, step=1)\n"
     ]
    },
    {
     "name": "stderr",
     "output_type": "stream",
     "text": [
      "C:\\Users\\Russell\\Anaconda3\\envs\\PythonGPU\\lib\\site-packages\\IPython\\core\\interactiveshell.py:3020: DtypeWarning: Columns (3,4,5,7,8,9,10,11,13,28) have mixed types.Specify dtype option on import or set low_memory=False.\n",
      "  interactivity=interactivity, compiler=compiler, result=result)\n"
     ]
    },
    {
     "name": "stdout",
     "output_type": "stream",
     "text": [
      "41 RangeIndex(start=8200000, stop=8400000, step=1)\n",
      "42 RangeIndex(start=8400000, stop=8600000, step=1)\n"
     ]
    },
    {
     "name": "stderr",
     "output_type": "stream",
     "text": [
      "C:\\Users\\Russell\\Anaconda3\\envs\\PythonGPU\\lib\\site-packages\\IPython\\core\\interactiveshell.py:3020: DtypeWarning: Columns (13,28,32) have mixed types.Specify dtype option on import or set low_memory=False.\n",
      "  interactivity=interactivity, compiler=compiler, result=result)\n"
     ]
    },
    {
     "name": "stdout",
     "output_type": "stream",
     "text": [
      "43 RangeIndex(start=8600000, stop=8800000, step=1)\n"
     ]
    },
    {
     "name": "stderr",
     "output_type": "stream",
     "text": [
      "C:\\Users\\Russell\\Anaconda3\\envs\\PythonGPU\\lib\\site-packages\\IPython\\core\\interactiveshell.py:3020: DtypeWarning: Columns (3,4,5,7,9,11,28,32) have mixed types.Specify dtype option on import or set low_memory=False.\n",
      "  interactivity=interactivity, compiler=compiler, result=result)\n"
     ]
    },
    {
     "name": "stdout",
     "output_type": "stream",
     "text": [
      "44 RangeIndex(start=8800000, stop=9000000, step=1)\n"
     ]
    },
    {
     "name": "stderr",
     "output_type": "stream",
     "text": [
      "C:\\Users\\Russell\\Anaconda3\\envs\\PythonGPU\\lib\\site-packages\\IPython\\core\\interactiveshell.py:3020: DtypeWarning: Columns (3,4,5,6,7,9,10,11,28) have mixed types.Specify dtype option on import or set low_memory=False.\n",
      "  interactivity=interactivity, compiler=compiler, result=result)\n"
     ]
    },
    {
     "name": "stdout",
     "output_type": "stream",
     "text": [
      "45 RangeIndex(start=9000000, stop=9200000, step=1)\n"
     ]
    },
    {
     "name": "stderr",
     "output_type": "stream",
     "text": [
      "C:\\Users\\Russell\\Anaconda3\\envs\\PythonGPU\\lib\\site-packages\\IPython\\core\\interactiveshell.py:3020: DtypeWarning: Columns (3,4,5,7,9,10,11,28) have mixed types.Specify dtype option on import or set low_memory=False.\n",
      "  interactivity=interactivity, compiler=compiler, result=result)\n"
     ]
    },
    {
     "name": "stdout",
     "output_type": "stream",
     "text": [
      "46 RangeIndex(start=9200000, stop=9400000, step=1)\n"
     ]
    },
    {
     "name": "stderr",
     "output_type": "stream",
     "text": [
      "C:\\Users\\Russell\\Anaconda3\\envs\\PythonGPU\\lib\\site-packages\\IPython\\core\\interactiveshell.py:3020: DtypeWarning: Columns (3,4,5,7,13,28) have mixed types.Specify dtype option on import or set low_memory=False.\n",
      "  interactivity=interactivity, compiler=compiler, result=result)\n"
     ]
    },
    {
     "name": "stdout",
     "output_type": "stream",
     "text": [
      "47 RangeIndex(start=9400000, stop=9600000, step=1)\n"
     ]
    },
    {
     "name": "stderr",
     "output_type": "stream",
     "text": [
      "C:\\Users\\Russell\\Anaconda3\\envs\\PythonGPU\\lib\\site-packages\\IPython\\core\\interactiveshell.py:3020: DtypeWarning: Columns (3,4,5,7,16,28) have mixed types.Specify dtype option on import or set low_memory=False.\n",
      "  interactivity=interactivity, compiler=compiler, result=result)\n"
     ]
    },
    {
     "name": "stdout",
     "output_type": "stream",
     "text": [
      "48 RangeIndex(start=9600000, stop=9800000, step=1)\n"
     ]
    },
    {
     "name": "stderr",
     "output_type": "stream",
     "text": [
      "C:\\Users\\Russell\\Anaconda3\\envs\\PythonGPU\\lib\\site-packages\\IPython\\core\\interactiveshell.py:3020: DtypeWarning: Columns (3,4,5,7,28) have mixed types.Specify dtype option on import or set low_memory=False.\n",
      "  interactivity=interactivity, compiler=compiler, result=result)\n"
     ]
    },
    {
     "name": "stdout",
     "output_type": "stream",
     "text": [
      "49 RangeIndex(start=9800000, stop=10000000, step=1)\n",
      "50 RangeIndex(start=10000000, stop=10200000, step=1)\n",
      "51 RangeIndex(start=10200000, stop=10400000, step=1)\n"
     ]
    },
    {
     "name": "stderr",
     "output_type": "stream",
     "text": [
      "C:\\Users\\Russell\\Anaconda3\\envs\\PythonGPU\\lib\\site-packages\\IPython\\core\\interactiveshell.py:3020: DtypeWarning: Columns (13,28) have mixed types.Specify dtype option on import or set low_memory=False.\n",
      "  interactivity=interactivity, compiler=compiler, result=result)\n"
     ]
    },
    {
     "name": "stdout",
     "output_type": "stream",
     "text": [
      "52 RangeIndex(start=10400000, stop=10600000, step=1)\n"
     ]
    },
    {
     "name": "stderr",
     "output_type": "stream",
     "text": [
      "C:\\Users\\Russell\\Anaconda3\\envs\\PythonGPU\\lib\\site-packages\\IPython\\core\\interactiveshell.py:3020: DtypeWarning: Columns (3,4,5,6,7,8,9,10,11,13,28,32) have mixed types.Specify dtype option on import or set low_memory=False.\n",
      "  interactivity=interactivity, compiler=compiler, result=result)\n"
     ]
    },
    {
     "name": "stdout",
     "output_type": "stream",
     "text": [
      "53 RangeIndex(start=10600000, stop=10800000, step=1)\n",
      "54 RangeIndex(start=10800000, stop=11000000, step=1)\n"
     ]
    },
    {
     "name": "stderr",
     "output_type": "stream",
     "text": [
      "C:\\Users\\Russell\\Anaconda3\\envs\\PythonGPU\\lib\\site-packages\\IPython\\core\\interactiveshell.py:3020: DtypeWarning: Columns (3,4,5,7,8,9,11,13,16,28) have mixed types.Specify dtype option on import or set low_memory=False.\n",
      "  interactivity=interactivity, compiler=compiler, result=result)\n"
     ]
    },
    {
     "name": "stdout",
     "output_type": "stream",
     "text": [
      "55 RangeIndex(start=11000000, stop=11200000, step=1)\n"
     ]
    },
    {
     "name": "stderr",
     "output_type": "stream",
     "text": [
      "C:\\Users\\Russell\\Anaconda3\\envs\\PythonGPU\\lib\\site-packages\\IPython\\core\\interactiveshell.py:3020: DtypeWarning: Columns (3,4,5,6,7,8,13,28) have mixed types.Specify dtype option on import or set low_memory=False.\n",
      "  interactivity=interactivity, compiler=compiler, result=result)\n"
     ]
    },
    {
     "name": "stdout",
     "output_type": "stream",
     "text": [
      "56 RangeIndex(start=11200000, stop=11400000, step=1)\n",
      "57 RangeIndex(start=11400000, stop=11600000, step=1)\n"
     ]
    },
    {
     "name": "stderr",
     "output_type": "stream",
     "text": [
      "C:\\Users\\Russell\\Anaconda3\\envs\\PythonGPU\\lib\\site-packages\\IPython\\core\\interactiveshell.py:3020: DtypeWarning: Columns (3,4,5,7,8,9,10,11,28) have mixed types.Specify dtype option on import or set low_memory=False.\n",
      "  interactivity=interactivity, compiler=compiler, result=result)\n"
     ]
    },
    {
     "name": "stdout",
     "output_type": "stream",
     "text": [
      "58 RangeIndex(start=11600000, stop=11800000, step=1)\n",
      "59 RangeIndex(start=11800000, stop=12000000, step=1)\n"
     ]
    },
    {
     "name": "stderr",
     "output_type": "stream",
     "text": [
      "C:\\Users\\Russell\\Anaconda3\\envs\\PythonGPU\\lib\\site-packages\\IPython\\core\\interactiveshell.py:3020: DtypeWarning: Columns (3,4,5,7,9,10,11,13,28) have mixed types.Specify dtype option on import or set low_memory=False.\n",
      "  interactivity=interactivity, compiler=compiler, result=result)\n"
     ]
    },
    {
     "name": "stdout",
     "output_type": "stream",
     "text": [
      "60 RangeIndex(start=12000000, stop=12200000, step=1)\n",
      "61 RangeIndex(start=12200000, stop=12400000, step=1)\n",
      "62 RangeIndex(start=12400000, stop=12600000, step=1)\n",
      "63 RangeIndex(start=12600000, stop=12800000, step=1)\n",
      "64 RangeIndex(start=12800000, stop=13000000, step=1)\n",
      "65 RangeIndex(start=13000000, stop=13200000, step=1)\n",
      "66 RangeIndex(start=13200000, stop=13400000, step=1)\n",
      "67 RangeIndex(start=13400000, stop=13600000, step=1)\n",
      "68 RangeIndex(start=13600000, stop=13800000, step=1)\n",
      "69 RangeIndex(start=13800000, stop=14000000, step=1)\n",
      "70 RangeIndex(start=14000000, stop=14200000, step=1)\n"
     ]
    },
    {
     "name": "stderr",
     "output_type": "stream",
     "text": [
      "C:\\Users\\Russell\\Anaconda3\\envs\\PythonGPU\\lib\\site-packages\\IPython\\core\\interactiveshell.py:3020: DtypeWarning: Columns (28) have mixed types.Specify dtype option on import or set low_memory=False.\n",
      "  interactivity=interactivity, compiler=compiler, result=result)\n"
     ]
    },
    {
     "name": "stdout",
     "output_type": "stream",
     "text": [
      "71 RangeIndex(start=14200000, stop=14400000, step=1)\n",
      "72 RangeIndex(start=14400000, stop=14600000, step=1)\n"
     ]
    },
    {
     "name": "stderr",
     "output_type": "stream",
     "text": [
      "C:\\Users\\Russell\\Anaconda3\\envs\\PythonGPU\\lib\\site-packages\\IPython\\core\\interactiveshell.py:3020: DtypeWarning: Columns (3,4,5,6,7,8,9,10,11,13,14,28) have mixed types.Specify dtype option on import or set low_memory=False.\n",
      "  interactivity=interactivity, compiler=compiler, result=result)\n"
     ]
    },
    {
     "name": "stdout",
     "output_type": "stream",
     "text": [
      "73 RangeIndex(start=14600000, stop=14800000, step=1)\n"
     ]
    },
    {
     "name": "stderr",
     "output_type": "stream",
     "text": [
      "C:\\Users\\Russell\\Anaconda3\\envs\\PythonGPU\\lib\\site-packages\\IPython\\core\\interactiveshell.py:3020: DtypeWarning: Columns (3,4,5,6,7,8,9,10,11,13,16,28,34) have mixed types.Specify dtype option on import or set low_memory=False.\n",
      "  interactivity=interactivity, compiler=compiler, result=result)\n"
     ]
    },
    {
     "name": "stdout",
     "output_type": "stream",
     "text": [
      "74 RangeIndex(start=14800000, stop=15000000, step=1)\n"
     ]
    },
    {
     "name": "stderr",
     "output_type": "stream",
     "text": [
      "C:\\Users\\Russell\\Anaconda3\\envs\\PythonGPU\\lib\\site-packages\\IPython\\core\\interactiveshell.py:3020: DtypeWarning: Columns (3,4,5,7,8,9,10,11,28,30) have mixed types.Specify dtype option on import or set low_memory=False.\n",
      "  interactivity=interactivity, compiler=compiler, result=result)\n"
     ]
    },
    {
     "name": "stdout",
     "output_type": "stream",
     "text": [
      "75 RangeIndex(start=15000000, stop=15200000, step=1)\n",
      "76 RangeIndex(start=15200000, stop=15400000, step=1)\n"
     ]
    },
    {
     "name": "stderr",
     "output_type": "stream",
     "text": [
      "C:\\Users\\Russell\\Anaconda3\\envs\\PythonGPU\\lib\\site-packages\\IPython\\core\\interactiveshell.py:3020: DtypeWarning: Columns (3,4,5,7,8,9,10,11,13,16,28) have mixed types.Specify dtype option on import or set low_memory=False.\n",
      "  interactivity=interactivity, compiler=compiler, result=result)\n"
     ]
    },
    {
     "name": "stdout",
     "output_type": "stream",
     "text": [
      "77 RangeIndex(start=15400000, stop=15600000, step=1)\n",
      "78 RangeIndex(start=15600000, stop=15800000, step=1)\n",
      "79 RangeIndex(start=15800000, stop=16000000, step=1)\n",
      "80 RangeIndex(start=16000000, stop=16200000, step=1)\n"
     ]
    },
    {
     "name": "stderr",
     "output_type": "stream",
     "text": [
      "C:\\Users\\Russell\\Anaconda3\\envs\\PythonGPU\\lib\\site-packages\\IPython\\core\\interactiveshell.py:3020: DtypeWarning: Columns (3,4,5,6,7,8,9,10,11) have mixed types.Specify dtype option on import or set low_memory=False.\n",
      "  interactivity=interactivity, compiler=compiler, result=result)\n"
     ]
    },
    {
     "name": "stdout",
     "output_type": "stream",
     "text": [
      "81 RangeIndex(start=16200000, stop=16400000, step=1)\n",
      "82 RangeIndex(start=16400000, stop=16600000, step=1)\n"
     ]
    },
    {
     "name": "stderr",
     "output_type": "stream",
     "text": [
      "C:\\Users\\Russell\\Anaconda3\\envs\\PythonGPU\\lib\\site-packages\\IPython\\core\\interactiveshell.py:3020: DtypeWarning: Columns (3,4,5,7,9,10,11,13) have mixed types.Specify dtype option on import or set low_memory=False.\n",
      "  interactivity=interactivity, compiler=compiler, result=result)\n"
     ]
    },
    {
     "name": "stdout",
     "output_type": "stream",
     "text": [
      "83 RangeIndex(start=16600000, stop=16800000, step=1)\n",
      "84 RangeIndex(start=16800000, stop=17000000, step=1)\n",
      "85 RangeIndex(start=17000000, stop=17200000, step=1)\n",
      "86 RangeIndex(start=17200000, stop=17400000, step=1)\n"
     ]
    },
    {
     "name": "stderr",
     "output_type": "stream",
     "text": [
      "C:\\Users\\Russell\\Anaconda3\\envs\\PythonGPU\\lib\\site-packages\\IPython\\core\\interactiveshell.py:3020: DtypeWarning: Columns (13) have mixed types.Specify dtype option on import or set low_memory=False.\n",
      "  interactivity=interactivity, compiler=compiler, result=result)\n"
     ]
    },
    {
     "name": "stdout",
     "output_type": "stream",
     "text": [
      "87 RangeIndex(start=17400000, stop=17600000, step=1)\n",
      "88 RangeIndex(start=17600000, stop=17800000, step=1)\n",
      "89 RangeIndex(start=17800000, stop=18000000, step=1)\n",
      "90 RangeIndex(start=18000000, stop=18200000, step=1)\n"
     ]
    },
    {
     "name": "stderr",
     "output_type": "stream",
     "text": [
      "C:\\Users\\Russell\\Anaconda3\\envs\\PythonGPU\\lib\\site-packages\\IPython\\core\\interactiveshell.py:3020: DtypeWarning: Columns (3,4,5,7,8,9,10,11,13,28,32) have mixed types.Specify dtype option on import or set low_memory=False.\n",
      "  interactivity=interactivity, compiler=compiler, result=result)\n"
     ]
    },
    {
     "name": "stdout",
     "output_type": "stream",
     "text": [
      "91 RangeIndex(start=18200000, stop=18400000, step=1)\n"
     ]
    },
    {
     "name": "stderr",
     "output_type": "stream",
     "text": [
      "C:\\Users\\Russell\\Anaconda3\\envs\\PythonGPU\\lib\\site-packages\\IPython\\core\\interactiveshell.py:3020: DtypeWarning: Columns (6,8,9,10,11,13,14,28,30) have mixed types.Specify dtype option on import or set low_memory=False.\n",
      "  interactivity=interactivity, compiler=compiler, result=result)\n"
     ]
    },
    {
     "name": "stdout",
     "output_type": "stream",
     "text": [
      "92 RangeIndex(start=18400000, stop=18600000, step=1)\n",
      "93 RangeIndex(start=18600000, stop=18800000, step=1)\n"
     ]
    },
    {
     "name": "stderr",
     "output_type": "stream",
     "text": [
      "C:\\Users\\Russell\\Anaconda3\\envs\\PythonGPU\\lib\\site-packages\\IPython\\core\\interactiveshell.py:3020: DtypeWarning: Columns (3,4,5,6,7,8,9,10,11,13,16,28,30) have mixed types.Specify dtype option on import or set low_memory=False.\n",
      "  interactivity=interactivity, compiler=compiler, result=result)\n"
     ]
    },
    {
     "name": "stdout",
     "output_type": "stream",
     "text": [
      "94 RangeIndex(start=18800000, stop=19000000, step=1)\n",
      "95 RangeIndex(start=19000000, stop=19200000, step=1)\n"
     ]
    },
    {
     "name": "stderr",
     "output_type": "stream",
     "text": [
      "C:\\Users\\Russell\\Anaconda3\\envs\\PythonGPU\\lib\\site-packages\\IPython\\core\\interactiveshell.py:3020: DtypeWarning: Columns (3,4,5,7,8,9,11,16) have mixed types.Specify dtype option on import or set low_memory=False.\n",
      "  interactivity=interactivity, compiler=compiler, result=result)\n"
     ]
    },
    {
     "name": "stdout",
     "output_type": "stream",
     "text": [
      "96 RangeIndex(start=19200000, stop=19400000, step=1)\n",
      "97 RangeIndex(start=19400000, stop=19600000, step=1)\n",
      "98 RangeIndex(start=19600000, stop=19800000, step=1)\n",
      "99 RangeIndex(start=19800000, stop=20000000, step=1)\n",
      "100 RangeIndex(start=20000000, stop=20200000, step=1)\n",
      "101 RangeIndex(start=20200000, stop=20400000, step=1)\n",
      "102 RangeIndex(start=20400000, stop=20600000, step=1)\n",
      "103 RangeIndex(start=20600000, stop=20800000, step=1)\n",
      "104 RangeIndex(start=20800000, stop=21000000, step=1)\n",
      "105 RangeIndex(start=21000000, stop=21200000, step=1)\n"
     ]
    },
    {
     "name": "stderr",
     "output_type": "stream",
     "text": [
      "C:\\Users\\Russell\\Anaconda3\\envs\\PythonGPU\\lib\\site-packages\\IPython\\core\\interactiveshell.py:3020: DtypeWarning: Columns (16,28) have mixed types.Specify dtype option on import or set low_memory=False.\n",
      "  interactivity=interactivity, compiler=compiler, result=result)\n"
     ]
    },
    {
     "name": "stdout",
     "output_type": "stream",
     "text": [
      "106 RangeIndex(start=21200000, stop=21400000, step=1)\n",
      "107 RangeIndex(start=21400000, stop=21600000, step=1)\n",
      "108 RangeIndex(start=21600000, stop=21800000, step=1)\n",
      "109 RangeIndex(start=21800000, stop=22000000, step=1)\n",
      "110 RangeIndex(start=22000000, stop=22200000, step=1)\n",
      "111 RangeIndex(start=22200000, stop=22400000, step=1)\n",
      "112 RangeIndex(start=22400000, stop=22600000, step=1)\n",
      "113 RangeIndex(start=22600000, stop=22800000, step=1)\n",
      "114 RangeIndex(start=22800000, stop=23000000, step=1)\n",
      "115 RangeIndex(start=23000000, stop=23200000, step=1)\n"
     ]
    },
    {
     "name": "stderr",
     "output_type": "stream",
     "text": [
      "C:\\Users\\Russell\\Anaconda3\\envs\\PythonGPU\\lib\\site-packages\\IPython\\core\\interactiveshell.py:3020: DtypeWarning: Columns (3,4,5,6,7,8,9,10,11,13,14,28,32) have mixed types.Specify dtype option on import or set low_memory=False.\n",
      "  interactivity=interactivity, compiler=compiler, result=result)\n"
     ]
    },
    {
     "name": "stdout",
     "output_type": "stream",
     "text": [
      "116 RangeIndex(start=23200000, stop=23400000, step=1)\n"
     ]
    },
    {
     "name": "stderr",
     "output_type": "stream",
     "text": [
      "C:\\Users\\Russell\\Anaconda3\\envs\\PythonGPU\\lib\\site-packages\\IPython\\core\\interactiveshell.py:3020: DtypeWarning: Columns (3,4,5,6,7,8,9,10,11,13,16,28,32) have mixed types.Specify dtype option on import or set low_memory=False.\n",
      "  interactivity=interactivity, compiler=compiler, result=result)\n"
     ]
    },
    {
     "name": "stdout",
     "output_type": "stream",
     "text": [
      "117 RangeIndex(start=23400000, stop=23600000, step=1)\n",
      "118 RangeIndex(start=23600000, stop=23800000, step=1)\n"
     ]
    },
    {
     "name": "stderr",
     "output_type": "stream",
     "text": [
      "C:\\Users\\Russell\\Anaconda3\\envs\\PythonGPU\\lib\\site-packages\\IPython\\core\\interactiveshell.py:3020: DtypeWarning: Columns (3,4,5,7,8,9,10,11,13,16,28,32) have mixed types.Specify dtype option on import or set low_memory=False.\n",
      "  interactivity=interactivity, compiler=compiler, result=result)\n"
     ]
    },
    {
     "name": "stdout",
     "output_type": "stream",
     "text": [
      "119 RangeIndex(start=23800000, stop=24000000, step=1)\n",
      "120 RangeIndex(start=24000000, stop=24200000, step=1)\n",
      "121 RangeIndex(start=24200000, stop=24400000, step=1)\n",
      "122 RangeIndex(start=24400000, stop=24600000, step=1)\n"
     ]
    },
    {
     "name": "stderr",
     "output_type": "stream",
     "text": [
      "C:\\Users\\Russell\\Anaconda3\\envs\\PythonGPU\\lib\\site-packages\\IPython\\core\\interactiveshell.py:3020: DtypeWarning: Columns (3,4,5,7,9,11,28) have mixed types.Specify dtype option on import or set low_memory=False.\n",
      "  interactivity=interactivity, compiler=compiler, result=result)\n"
     ]
    },
    {
     "name": "stdout",
     "output_type": "stream",
     "text": [
      "123 RangeIndex(start=24600000, stop=24800000, step=1)\n",
      "124 RangeIndex(start=24800000, stop=25000000, step=1)\n",
      "125 RangeIndex(start=25000000, stop=25200000, step=1)\n",
      "126 RangeIndex(start=25200000, stop=25400000, step=1)\n",
      "127 RangeIndex(start=25400000, stop=25600000, step=1)\n"
     ]
    },
    {
     "name": "stderr",
     "output_type": "stream",
     "text": [
      "C:\\Users\\Russell\\Anaconda3\\envs\\PythonGPU\\lib\\site-packages\\IPython\\core\\interactiveshell.py:3020: DtypeWarning: Columns (3,4,5,7,9,11) have mixed types.Specify dtype option on import or set low_memory=False.\n",
      "  interactivity=interactivity, compiler=compiler, result=result)\n"
     ]
    },
    {
     "name": "stdout",
     "output_type": "stream",
     "text": [
      "128 RangeIndex(start=25600000, stop=25800000, step=1)\n",
      "129 RangeIndex(start=25800000, stop=26000000, step=1)\n",
      "130 RangeIndex(start=26000000, stop=26200000, step=1)\n",
      "131 RangeIndex(start=26200000, stop=26400000, step=1)\n",
      "132 RangeIndex(start=26400000, stop=26600000, step=1)\n",
      "133 RangeIndex(start=26600000, stop=26800000, step=1)\n",
      "134 RangeIndex(start=26800000, stop=27000000, step=1)\n",
      "135 RangeIndex(start=27000000, stop=27200000, step=1)\n"
     ]
    },
    {
     "name": "stderr",
     "output_type": "stream",
     "text": [
      "C:\\Users\\Russell\\Anaconda3\\envs\\PythonGPU\\lib\\site-packages\\IPython\\core\\interactiveshell.py:3020: DtypeWarning: Columns (3,4,5,6,7,8,9,10,11,13) have mixed types.Specify dtype option on import or set low_memory=False.\n",
      "  interactivity=interactivity, compiler=compiler, result=result)\n"
     ]
    },
    {
     "name": "stdout",
     "output_type": "stream",
     "text": [
      "136 RangeIndex(start=27200000, stop=27400000, step=1)\n",
      "137 RangeIndex(start=27400000, stop=27600000, step=1)\n",
      "138 RangeIndex(start=27600000, stop=27800000, step=1)\n",
      "139 RangeIndex(start=27800000, stop=28000000, step=1)\n"
     ]
    },
    {
     "name": "stderr",
     "output_type": "stream",
     "text": [
      "C:\\Users\\Russell\\Anaconda3\\envs\\PythonGPU\\lib\\site-packages\\IPython\\core\\interactiveshell.py:3020: DtypeWarning: Columns (3,4,5,7,8,9,11,13,16,28,30) have mixed types.Specify dtype option on import or set low_memory=False.\n",
      "  interactivity=interactivity, compiler=compiler, result=result)\n"
     ]
    },
    {
     "name": "stdout",
     "output_type": "stream",
     "text": [
      "140 RangeIndex(start=28000000, stop=28200000, step=1)\n",
      "141 RangeIndex(start=28200000, stop=28400000, step=1)\n",
      "142 RangeIndex(start=28400000, stop=28600000, step=1)\n",
      "143 RangeIndex(start=28600000, stop=28800000, step=1)\n",
      "144 RangeIndex(start=28800000, stop=29000000, step=1)\n"
     ]
    },
    {
     "name": "stderr",
     "output_type": "stream",
     "text": [
      "C:\\Users\\Russell\\Anaconda3\\envs\\PythonGPU\\lib\\site-packages\\IPython\\core\\interactiveshell.py:3020: DtypeWarning: Columns (3,4,5,7,8,9,11,13,28) have mixed types.Specify dtype option on import or set low_memory=False.\n",
      "  interactivity=interactivity, compiler=compiler, result=result)\n"
     ]
    },
    {
     "name": "stdout",
     "output_type": "stream",
     "text": [
      "145 RangeIndex(start=29000000, stop=29200000, step=1)\n",
      "146 RangeIndex(start=29200000, stop=29400000, step=1)\n",
      "147 RangeIndex(start=29400000, stop=29600000, step=1)\n",
      "148 RangeIndex(start=29600000, stop=29800000, step=1)\n",
      "149 RangeIndex(start=29800000, stop=30000000, step=1)\n"
     ]
    },
    {
     "name": "stderr",
     "output_type": "stream",
     "text": [
      "C:\\Users\\Russell\\Anaconda3\\envs\\PythonGPU\\lib\\site-packages\\IPython\\core\\interactiveshell.py:3020: DtypeWarning: Columns (3,4,5,7,13,28,32) have mixed types.Specify dtype option on import or set low_memory=False.\n",
      "  interactivity=interactivity, compiler=compiler, result=result)\n"
     ]
    },
    {
     "name": "stdout",
     "output_type": "stream",
     "text": [
      "150 RangeIndex(start=30000000, stop=30200000, step=1)\n",
      "151 RangeIndex(start=30200000, stop=30400000, step=1)\n",
      "152 RangeIndex(start=30400000, stop=30445428, step=1)\n"
     ]
    }
   ],
   "source": [
    "df_iter = pd.read_csv('SARIG_Data_Package/sarig_rs_chem_exp.csv', chunksize=200000)\n",
    "\n",
    "df_gold_list = []\n",
    "#index_to_extract_counter = [] #This is only used for debugging\n",
    "\n",
    "for chunk_no, chunk in enumerate(df_iter):\n",
    "    print(chunk_no, chunk.index)\n",
    "      \n",
    "    #getting the min-max range of the index values in the chunk    \n",
    "    min_index = chunk.index.start\n",
    "    max_index = chunk.index.stop - 1 #-1 as second term in range is not inclusive\n",
    "    \n",
    "    #Filtering the list to only include index numbers between the min-max range\n",
    "    index_to_extract = [i for i in final_index_dh_gold if i >= min_index and i <= max_index]\n",
    "    \n",
    "    #index_to_extract_counter.append(index_to_extract) #This is only used for debugging\n",
    "    \n",
    "    #Using the filtered list of indices and extract those rows from the Assay DF\n",
    "    df_interest = chunk.loc[index_to_extract]\n",
    "    \n",
    "    #Adding this likst to our list of lists\n",
    "    df_gold_list.append(df_interest)\n",
    "\n",
    "#Concatinating all the list of DF's into one    \n",
    "df_gold_merge = pd.concat(df_gold_list)"
   ]
  },
  {
   "cell_type": "markdown",
   "metadata": {},
   "source": [
    "##### Looking at some basic info for our new DF. ~19M rows!"
   ]
  },
  {
   "cell_type": "code",
   "execution_count": 78,
   "metadata": {},
   "outputs": [
    {
     "name": "stdout",
     "output_type": "stream",
     "text": [
      "<class 'pandas.core.frame.DataFrame'>\n",
      "Int64Index: 19552741 entries, 14 to 30422287\n",
      "Data columns (total 36 columns):\n",
      " #   Column              Dtype  \n",
      "---  ------              -----  \n",
      " 0   SAMPLE_NO           int64  \n",
      " 1   SAMPLE_SOURCE_CODE  object \n",
      " 2   SAMPLE_SOURCE       object \n",
      " 3   ROCK_GROUP_CODE     object \n",
      " 4   ROCK_GROUP          object \n",
      " 5   LITHO_CODE          object \n",
      " 6   LITHO_CONF          object \n",
      " 7   LITHOLOGY_NAME      object \n",
      " 8   LITHO_MODIFIER      object \n",
      " 9   MAP_SYMBOL          object \n",
      " 10  STRAT_CONF          object \n",
      " 11  STRAT_NAME          object \n",
      " 12  COLLECTED_BY        object \n",
      " 13  COLLECTORS_NUMBER   object \n",
      " 14  COLLECTED_DATE      object \n",
      " 15  DRILLHOLE_NUMBER    float64\n",
      " 16  DH_NAME             object \n",
      " 17  DH_DEPTH_FROM       float64\n",
      " 18  DH_DEPTH_TO         float64\n",
      " 19  SITE_NO             int64  \n",
      " 20  EASTING_GDA2020     float64\n",
      " 21  NORTHING_GDA2020    float64\n",
      " 22  ZONE_GDA2020        int64  \n",
      " 23  LONGITUDE_GDA2020   float64\n",
      " 24  LATITUDE_GDA2020    float64\n",
      " 25  LONGITUDE_GDA94     float64\n",
      " 26  LATITUDE_GDA94      float64\n",
      " 27  SAMPLE_ANALYSIS_NO  int64  \n",
      " 28  OTHER_ANALYSIS_ID   object \n",
      " 29  ANALYSIS_TYPE_DESC  object \n",
      " 30  LABORATORY          object \n",
      " 31  CHEM_CODE           object \n",
      " 32  VALUE               object \n",
      " 33  UNIT                object \n",
      " 34  CHEM_METHOD_CODE    object \n",
      " 35  CHEM_METHOD_DESC    object \n",
      "dtypes: float64(9), int64(4), object(23)\n",
      "memory usage: 5.4+ GB\n"
     ]
    }
   ],
   "source": [
    "df_gold_merge.info()"
   ]
  },
  {
   "cell_type": "code",
   "execution_count": 77,
   "metadata": {},
   "outputs": [
    {
     "data": {
      "text/html": [
       "<div>\n",
       "<style scoped>\n",
       "    .dataframe tbody tr th:only-of-type {\n",
       "        vertical-align: middle;\n",
       "    }\n",
       "\n",
       "    .dataframe tbody tr th {\n",
       "        vertical-align: top;\n",
       "    }\n",
       "\n",
       "    .dataframe thead th {\n",
       "        text-align: right;\n",
       "    }\n",
       "</style>\n",
       "<table border=\"1\" class=\"dataframe\">\n",
       "  <thead>\n",
       "    <tr style=\"text-align: right;\">\n",
       "      <th></th>\n",
       "      <th>SAMPLE_NO</th>\n",
       "      <th>SAMPLE_SOURCE_CODE</th>\n",
       "      <th>SAMPLE_SOURCE</th>\n",
       "      <th>ROCK_GROUP_CODE</th>\n",
       "      <th>ROCK_GROUP</th>\n",
       "      <th>LITHO_CODE</th>\n",
       "      <th>LITHO_CONF</th>\n",
       "      <th>LITHOLOGY_NAME</th>\n",
       "      <th>LITHO_MODIFIER</th>\n",
       "      <th>MAP_SYMBOL</th>\n",
       "      <th>STRAT_CONF</th>\n",
       "      <th>STRAT_NAME</th>\n",
       "      <th>COLLECTED_BY</th>\n",
       "      <th>COLLECTORS_NUMBER</th>\n",
       "      <th>COLLECTED_DATE</th>\n",
       "      <th>DRILLHOLE_NUMBER</th>\n",
       "      <th>DH_NAME</th>\n",
       "      <th>DH_DEPTH_FROM</th>\n",
       "      <th>DH_DEPTH_TO</th>\n",
       "      <th>SITE_NO</th>\n",
       "      <th>EASTING_GDA2020</th>\n",
       "      <th>NORTHING_GDA2020</th>\n",
       "      <th>ZONE_GDA2020</th>\n",
       "      <th>LONGITUDE_GDA2020</th>\n",
       "      <th>LATITUDE_GDA2020</th>\n",
       "      <th>LONGITUDE_GDA94</th>\n",
       "      <th>LATITUDE_GDA94</th>\n",
       "      <th>SAMPLE_ANALYSIS_NO</th>\n",
       "      <th>OTHER_ANALYSIS_ID</th>\n",
       "      <th>ANALYSIS_TYPE_DESC</th>\n",
       "      <th>LABORATORY</th>\n",
       "      <th>CHEM_CODE</th>\n",
       "      <th>VALUE</th>\n",
       "      <th>UNIT</th>\n",
       "      <th>CHEM_METHOD_CODE</th>\n",
       "      <th>CHEM_METHOD_DESC</th>\n",
       "    </tr>\n",
       "  </thead>\n",
       "  <tbody>\n",
       "    <tr>\n",
       "      <th>14</th>\n",
       "      <td>2078806</td>\n",
       "      <td>DC</td>\n",
       "      <td>Drill core</td>\n",
       "      <td>NaN</td>\n",
       "      <td>NaN</td>\n",
       "      <td>NaN</td>\n",
       "      <td>NaN</td>\n",
       "      <td>NaN</td>\n",
       "      <td>NaN</td>\n",
       "      <td>NaN</td>\n",
       "      <td>NaN</td>\n",
       "      <td>NaN</td>\n",
       "      <td>WESTERN MINING CORPORATION LTD.</td>\n",
       "      <td>RA25046</td>\n",
       "      <td>22/08/2008</td>\n",
       "      <td>280578.0</td>\n",
       "      <td>WRD30</td>\n",
       "      <td>1327.0</td>\n",
       "      <td>1328.0</td>\n",
       "      <td>1984090</td>\n",
       "      <td>687490.6</td>\n",
       "      <td>6605633.24</td>\n",
       "      <td>53</td>\n",
       "      <td>136.957005</td>\n",
       "      <td>-30.667316</td>\n",
       "      <td>136.956995</td>\n",
       "      <td>-30.667302</td>\n",
       "      <td>1636520</td>\n",
       "      <td>NaN</td>\n",
       "      <td>GEOCHEMISTRY</td>\n",
       "      <td>AMDEL Laboratory, S.A.</td>\n",
       "      <td>U3O8</td>\n",
       "      <td>5</td>\n",
       "      <td>ppm</td>\n",
       "      <td>XRF1</td>\n",
       "      <td>X-Ray Fluorescence Spectrometry</td>\n",
       "    </tr>\n",
       "    <tr>\n",
       "      <th>37</th>\n",
       "      <td>2078802</td>\n",
       "      <td>DC</td>\n",
       "      <td>Drill core</td>\n",
       "      <td>NaN</td>\n",
       "      <td>NaN</td>\n",
       "      <td>NaN</td>\n",
       "      <td>NaN</td>\n",
       "      <td>NaN</td>\n",
       "      <td>NaN</td>\n",
       "      <td>NaN</td>\n",
       "      <td>NaN</td>\n",
       "      <td>NaN</td>\n",
       "      <td>WESTERN MINING CORPORATION LTD.</td>\n",
       "      <td>RA25042</td>\n",
       "      <td>22/08/2008</td>\n",
       "      <td>280578.0</td>\n",
       "      <td>WRD30</td>\n",
       "      <td>1323.0</td>\n",
       "      <td>1324.0</td>\n",
       "      <td>1984090</td>\n",
       "      <td>687490.6</td>\n",
       "      <td>6605633.24</td>\n",
       "      <td>53</td>\n",
       "      <td>136.957005</td>\n",
       "      <td>-30.667316</td>\n",
       "      <td>136.956995</td>\n",
       "      <td>-30.667302</td>\n",
       "      <td>1636516</td>\n",
       "      <td>NaN</td>\n",
       "      <td>GEOCHEMISTRY</td>\n",
       "      <td>AMDEL Laboratory, S.A.</td>\n",
       "      <td>U3O8</td>\n",
       "      <td>5</td>\n",
       "      <td>ppm</td>\n",
       "      <td>XRF1</td>\n",
       "      <td>X-Ray Fluorescence Spectrometry</td>\n",
       "    </tr>\n",
       "    <tr>\n",
       "      <th>38</th>\n",
       "      <td>2078803</td>\n",
       "      <td>DC</td>\n",
       "      <td>Drill core</td>\n",
       "      <td>NaN</td>\n",
       "      <td>NaN</td>\n",
       "      <td>NaN</td>\n",
       "      <td>NaN</td>\n",
       "      <td>NaN</td>\n",
       "      <td>NaN</td>\n",
       "      <td>NaN</td>\n",
       "      <td>NaN</td>\n",
       "      <td>NaN</td>\n",
       "      <td>WESTERN MINING CORPORATION LTD.</td>\n",
       "      <td>RA25043</td>\n",
       "      <td>22/08/2008</td>\n",
       "      <td>280578.0</td>\n",
       "      <td>WRD30</td>\n",
       "      <td>1324.0</td>\n",
       "      <td>1325.0</td>\n",
       "      <td>1984090</td>\n",
       "      <td>687490.6</td>\n",
       "      <td>6605633.24</td>\n",
       "      <td>53</td>\n",
       "      <td>136.957005</td>\n",
       "      <td>-30.667316</td>\n",
       "      <td>136.956995</td>\n",
       "      <td>-30.667302</td>\n",
       "      <td>1636517</td>\n",
       "      <td>NaN</td>\n",
       "      <td>GEOCHEMISTRY</td>\n",
       "      <td>AMDEL Laboratory, S.A.</td>\n",
       "      <td>U3O8</td>\n",
       "      <td>5</td>\n",
       "      <td>ppm</td>\n",
       "      <td>XRF1</td>\n",
       "      <td>X-Ray Fluorescence Spectrometry</td>\n",
       "    </tr>\n",
       "    <tr>\n",
       "      <th>39</th>\n",
       "      <td>2078804</td>\n",
       "      <td>DC</td>\n",
       "      <td>Drill core</td>\n",
       "      <td>NaN</td>\n",
       "      <td>NaN</td>\n",
       "      <td>NaN</td>\n",
       "      <td>NaN</td>\n",
       "      <td>NaN</td>\n",
       "      <td>NaN</td>\n",
       "      <td>NaN</td>\n",
       "      <td>NaN</td>\n",
       "      <td>NaN</td>\n",
       "      <td>WESTERN MINING CORPORATION LTD.</td>\n",
       "      <td>RA25044</td>\n",
       "      <td>22/08/2008</td>\n",
       "      <td>280578.0</td>\n",
       "      <td>WRD30</td>\n",
       "      <td>1325.0</td>\n",
       "      <td>1326.0</td>\n",
       "      <td>1984090</td>\n",
       "      <td>687490.6</td>\n",
       "      <td>6605633.24</td>\n",
       "      <td>53</td>\n",
       "      <td>136.957005</td>\n",
       "      <td>-30.667316</td>\n",
       "      <td>136.956995</td>\n",
       "      <td>-30.667302</td>\n",
       "      <td>1636518</td>\n",
       "      <td>NaN</td>\n",
       "      <td>GEOCHEMISTRY</td>\n",
       "      <td>AMDEL Laboratory, S.A.</td>\n",
       "      <td>U3O8</td>\n",
       "      <td>5</td>\n",
       "      <td>ppm</td>\n",
       "      <td>XRF1</td>\n",
       "      <td>X-Ray Fluorescence Spectrometry</td>\n",
       "    </tr>\n",
       "    <tr>\n",
       "      <th>40</th>\n",
       "      <td>2078805</td>\n",
       "      <td>DC</td>\n",
       "      <td>Drill core</td>\n",
       "      <td>NaN</td>\n",
       "      <td>NaN</td>\n",
       "      <td>NaN</td>\n",
       "      <td>NaN</td>\n",
       "      <td>NaN</td>\n",
       "      <td>NaN</td>\n",
       "      <td>NaN</td>\n",
       "      <td>NaN</td>\n",
       "      <td>NaN</td>\n",
       "      <td>WESTERN MINING CORPORATION LTD.</td>\n",
       "      <td>RA25045</td>\n",
       "      <td>22/08/2008</td>\n",
       "      <td>280578.0</td>\n",
       "      <td>WRD30</td>\n",
       "      <td>1326.0</td>\n",
       "      <td>1327.0</td>\n",
       "      <td>1984090</td>\n",
       "      <td>687490.6</td>\n",
       "      <td>6605633.24</td>\n",
       "      <td>53</td>\n",
       "      <td>136.957005</td>\n",
       "      <td>-30.667316</td>\n",
       "      <td>136.956995</td>\n",
       "      <td>-30.667302</td>\n",
       "      <td>1636519</td>\n",
       "      <td>NaN</td>\n",
       "      <td>GEOCHEMISTRY</td>\n",
       "      <td>AMDEL Laboratory, S.A.</td>\n",
       "      <td>U3O8</td>\n",
       "      <td>5</td>\n",
       "      <td>ppm</td>\n",
       "      <td>XRF1</td>\n",
       "      <td>X-Ray Fluorescence Spectrometry</td>\n",
       "    </tr>\n",
       "  </tbody>\n",
       "</table>\n",
       "</div>"
      ],
      "text/plain": [
       "    SAMPLE_NO SAMPLE_SOURCE_CODE SAMPLE_SOURCE ROCK_GROUP_CODE ROCK_GROUP  \\\n",
       "14    2078806                 DC    Drill core             NaN        NaN   \n",
       "37    2078802                 DC    Drill core             NaN        NaN   \n",
       "38    2078803                 DC    Drill core             NaN        NaN   \n",
       "39    2078804                 DC    Drill core             NaN        NaN   \n",
       "40    2078805                 DC    Drill core             NaN        NaN   \n",
       "\n",
       "   LITHO_CODE LITHO_CONF LITHOLOGY_NAME LITHO_MODIFIER MAP_SYMBOL STRAT_CONF  \\\n",
       "14        NaN        NaN            NaN            NaN        NaN        NaN   \n",
       "37        NaN        NaN            NaN            NaN        NaN        NaN   \n",
       "38        NaN        NaN            NaN            NaN        NaN        NaN   \n",
       "39        NaN        NaN            NaN            NaN        NaN        NaN   \n",
       "40        NaN        NaN            NaN            NaN        NaN        NaN   \n",
       "\n",
       "   STRAT_NAME                     COLLECTED_BY COLLECTORS_NUMBER  \\\n",
       "14        NaN  WESTERN MINING CORPORATION LTD.           RA25046   \n",
       "37        NaN  WESTERN MINING CORPORATION LTD.           RA25042   \n",
       "38        NaN  WESTERN MINING CORPORATION LTD.           RA25043   \n",
       "39        NaN  WESTERN MINING CORPORATION LTD.           RA25044   \n",
       "40        NaN  WESTERN MINING CORPORATION LTD.           RA25045   \n",
       "\n",
       "   COLLECTED_DATE  DRILLHOLE_NUMBER DH_NAME  DH_DEPTH_FROM  DH_DEPTH_TO  \\\n",
       "14     22/08/2008          280578.0   WRD30         1327.0       1328.0   \n",
       "37     22/08/2008          280578.0   WRD30         1323.0       1324.0   \n",
       "38     22/08/2008          280578.0   WRD30         1324.0       1325.0   \n",
       "39     22/08/2008          280578.0   WRD30         1325.0       1326.0   \n",
       "40     22/08/2008          280578.0   WRD30         1326.0       1327.0   \n",
       "\n",
       "    SITE_NO  EASTING_GDA2020  NORTHING_GDA2020  ZONE_GDA2020  \\\n",
       "14  1984090         687490.6        6605633.24            53   \n",
       "37  1984090         687490.6        6605633.24            53   \n",
       "38  1984090         687490.6        6605633.24            53   \n",
       "39  1984090         687490.6        6605633.24            53   \n",
       "40  1984090         687490.6        6605633.24            53   \n",
       "\n",
       "    LONGITUDE_GDA2020  LATITUDE_GDA2020  LONGITUDE_GDA94  LATITUDE_GDA94  \\\n",
       "14         136.957005        -30.667316       136.956995      -30.667302   \n",
       "37         136.957005        -30.667316       136.956995      -30.667302   \n",
       "38         136.957005        -30.667316       136.956995      -30.667302   \n",
       "39         136.957005        -30.667316       136.956995      -30.667302   \n",
       "40         136.957005        -30.667316       136.956995      -30.667302   \n",
       "\n",
       "    SAMPLE_ANALYSIS_NO OTHER_ANALYSIS_ID ANALYSIS_TYPE_DESC  \\\n",
       "14             1636520               NaN       GEOCHEMISTRY   \n",
       "37             1636516               NaN       GEOCHEMISTRY   \n",
       "38             1636517               NaN       GEOCHEMISTRY   \n",
       "39             1636518               NaN       GEOCHEMISTRY   \n",
       "40             1636519               NaN       GEOCHEMISTRY   \n",
       "\n",
       "                LABORATORY CHEM_CODE VALUE UNIT CHEM_METHOD_CODE  \\\n",
       "14  AMDEL Laboratory, S.A.      U3O8     5  ppm             XRF1   \n",
       "37  AMDEL Laboratory, S.A.      U3O8     5  ppm             XRF1   \n",
       "38  AMDEL Laboratory, S.A.      U3O8     5  ppm             XRF1   \n",
       "39  AMDEL Laboratory, S.A.      U3O8     5  ppm             XRF1   \n",
       "40  AMDEL Laboratory, S.A.      U3O8     5  ppm             XRF1   \n",
       "\n",
       "                   CHEM_METHOD_DESC  \n",
       "14  X-Ray Fluorescence Spectrometry  \n",
       "37  X-Ray Fluorescence Spectrometry  \n",
       "38  X-Ray Fluorescence Spectrometry  \n",
       "39  X-Ray Fluorescence Spectrometry  \n",
       "40  X-Ray Fluorescence Spectrometry  "
      ]
     },
     "execution_count": 77,
     "metadata": {},
     "output_type": "execute_result"
    }
   ],
   "source": [
    "#A preview of our merged dataset\n",
    "df_gold_merge.head()"
   ]
  },
  {
   "cell_type": "markdown",
   "metadata": {},
   "source": [
    "#### Pickle over CSV\n",
    "\n",
    "From our dataframe info we can see that this new DF is 5GB+ with 19M rows. Writing this to a CSV can take hours. \n",
    "As a comparison, reading and writing from a pickle file is upto 60 times faster and should take less than a min.\n",
    "You can try both approaches and compare the results."
   ]
  },
  {
   "cell_type": "code",
   "execution_count": 81,
   "metadata": {},
   "outputs": [],
   "source": [
    "#Exporting this Data to a pickle\n",
    "df_gold_merge.to_pickle('Cleaned_datasets/gold_geochem_Final.pkl')"
   ]
  }
 ],
 "metadata": {
  "kernelspec": {
   "display_name": "Python 3",
   "language": "python",
   "name": "python3"
  },
  "language_info": {
   "codemirror_mode": {
    "name": "ipython",
    "version": 3
   },
   "file_extension": ".py",
   "mimetype": "text/x-python",
   "name": "python",
   "nbconvert_exporter": "python",
   "pygments_lexer": "ipython3",
   "version": "3.6.6"
  }
 },
 "nbformat": 4,
 "nbformat_minor": 4
}
